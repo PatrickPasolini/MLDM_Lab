{
  "nbformat": 4,
  "nbformat_minor": 0,
  "metadata": {
    "kernelspec": {
      "display_name": "Python 3",
      "language": "python",
      "name": "python3"
    },
    "language_info": {
      "codemirror_mode": {
        "name": "ipython",
        "version": 3
      },
      "file_extension": ".py",
      "mimetype": "text/x-python",
      "name": "python",
      "nbconvert_exporter": "python",
      "pygments_lexer": "ipython3",
      "version": "3.6.9"
    },
    "colab": {
      "name": "03-Numpy.ipynb",
      "provenance": [],
      "toc_visible": true
    }
  },
  "cells": [
    {
      "cell_type": "markdown",
      "metadata": {
        "id": "zXuSaJLphDLf"
      },
      "source": [
        "# NumPy -  multidimensional data arrays"
      ]
    },
    {
      "cell_type": "markdown",
      "source": [
        "NumPy = Numerical Phyton.\n",
        "\n",
        "tensori = struttura dati multidimensionali. Vincolo è che devono essere tutti dello stesso tipo. A differenza di Py che permette eterogeneità.\n",
        "\n",
        "```\n",
        "import numpy as np  #per distinguere il package\n",
        "my_arr=np.arange(100000) #0-999999\n",
        "```\n",
        "* using list of lists\n",
        "\n"
      ],
      "metadata": {
        "id": "Vz7fT-56ahFa"
      }
    },
    {
      "cell_type": "markdown",
      "metadata": {
        "id": "pPi3P8oMhDLh"
      },
      "source": [
        "### Ondrej Lexa"
      ]
    },
    {
      "cell_type": "markdown",
      "metadata": {
        "id": "pkYnjy2HhDLi"
      },
      "source": [
        "The `numpy` package (module) is used in almost all numerical computation using Python. It is a package that provide high-performance vector, matrix and higher-dimensional data structures for Python. It is implemented in C and Fortran so when calculations are vectorized (formulated with vectors and matrices), performance is very good.\n",
        "\n",
        "`NumPy` adds basic MATLAB-like capability to Python:\n",
        "\n",
        " * multidimensional arrays with homogeneous data types\n",
        " * specific numeric data types (e.g. `int8`, `uint32`, `float64`)\n",
        " * array manipulation functions (e.g. `reshape`, `transpose`, `concatenate`)\n",
        " * array generation (e.g. `ones`, `zeros`, `eye`, `random`)\n",
        " * element-wise math operations (e.g. `add`, `multiply`, `max`, `sin`)\n",
        " * matrix math operations (e.g. `inner`/`outer` product, `rank`, `trace`)\n",
        " * linear algebra (e.g. `inv`, `pinv`, `svd`, `eig`, `det`, `qr`)\n",
        "\n",
        "`SciPy` builds on `NumPy` (much like MATLAB toolboxes) adding:\n",
        "\n",
        " * multidimensional image processing\n",
        " * non-linear solvers, optimization, root finding\n",
        " * signal processing, fast Fourier transforms\n",
        " * numerical integration, interpolation, statistical functions\n",
        " * sparse matrices, sparse solvers\n",
        " * clustering algorithms, distance metrics, spatial data structures\n",
        " * file IO (including to MATLAB .mat files)\n",
        "\n",
        "`Matplotlib` adds MATLAB-like plotting capability on top of `NumPy`."
      ]
    },
    {
      "cell_type": "markdown",
      "metadata": {
        "id": "dOSxjjWIhDLk"
      },
      "source": [
        "### Importing the numpy module"
      ]
    },
    {
      "cell_type": "markdown",
      "metadata": {
        "id": "_Wcyb4uthDLk"
      },
      "source": [
        "There are several ways to import `numpy`. The standard approach is to use a simple import\n",
        "statement.\n",
        "```python\n",
        "import numpy\n",
        "```\n",
        "However, for large amounts of calls to `numpy` functions, it can become tedious to write\n",
        "`numpy.X` over and over again. Instead, it is common to import under the briefer name `np`.\n",
        "```python\n",
        "import numpy as np\n",
        "```\n",
        "This statement will allow us to access `numpy` objects using `np.X` instead of `numpy.X`. It is\n",
        "also possible to import `numpy` directly into the **current namespace** so that we don't have to use\n",
        "dot notation at all, but rather simply call the functions as if they were built-in:\n",
        "```python\n",
        "from numpy import *\n",
        "```"
      ]
    },
    {
      "cell_type": "markdown",
      "metadata": {
        "id": "e0Fn3quZhDLl"
      },
      "source": [
        "### Interactive Scientific Python (aka PyLab)\n",
        "**PyLab** is a meta-package that import most of the `NumPy` and `Matplotlib` into the global name space. It is the easiest (and most MATLAB-like) way to work with scientific Python.\n",
        "```python\n",
        "from pylab import *\n",
        "```\n",
        "In Jupyter notebooks we can use `%pylab` magic to initiate PyLab evnironment. Option `inline` set graphical output to be shown in notebook. For other magic commands see [Built-in magic commands](http://ipython.readthedocs.io/en/stable/interactive/magics.html). `%pylab` makes the following imports.\n",
        "```python\n",
        "import numpy\n",
        "import matplotlib\n",
        "from matplotlib import pylab, mlab, pyplot\n",
        "np = numpy\n",
        "plt = pyplot\n",
        "\n",
        "from IPython.display import display\n",
        "from IPython.core.pylabtools import figsize, getfigs\n",
        "\n",
        "from pylab import *\n",
        "from numpy import *\n",
        "```"
      ]
    },
    {
      "cell_type": "markdown",
      "source": [
        " % indica un macro comando che è stato impostato\n"
      ],
      "metadata": {
        "id": "X5s_GJdbaL15"
      }
    },
    {
      "cell_type": "code",
      "metadata": {
        "colab": {
          "base_uri": "https://localhost:8080/"
        },
        "id": "9BsXM4GMhDLm",
        "outputId": "eba4eecb-2ecc-4e58-be1d-f39ebbd0a2f5"
      },
      "source": [
        "%pylab inline"
      ],
      "execution_count": 1,
      "outputs": [
        {
          "output_type": "stream",
          "name": "stdout",
          "text": [
            "Populating the interactive namespace from numpy and matplotlib\n"
          ]
        }
      ]
    },
    {
      "cell_type": "markdown",
      "metadata": {
        "id": "5ckUzsC1hDLo"
      },
      "source": [
        "#### Writing scripts and programs\n",
        "When writing scripts or programs it is recommended that you:\n",
        "\n",
        " * only import what you need, for efficiency\n",
        " * import packages into namespaces, to avoid name clashes\n",
        "\n",
        "The community has adopted abbreviated naming conventions\n",
        "```python\n",
        "import numpy as np\n",
        "import scipy as sp\n",
        "import matplotlib as mpl\n",
        "import matplotlib.pyplot as plt\n",
        "```\n",
        "Some different ways of working with `NumPy` are:\n",
        "```python\n",
        "from numpy import eye, array   # Import only what you need\n",
        "from numpy.linalg import svd\n",
        "```"
      ]
    },
    {
      "cell_type": "markdown",
      "metadata": {
        "id": "s3IryAhPhDLo"
      },
      "source": [
        "### NumPy arrays"
      ]
    },
    {
      "cell_type": "markdown",
      "metadata": {
        "id": "S_rCnHJEhDLo"
      },
      "source": [
        "In the `numpy` package the terminology used for vectors, matrices and higher-dimensional data sets is `numpy.ndarray`.\n",
        "\n",
        "The `numpy.ndarray` looks awefully much like a Python list (or nested list). Why not simply use Python lists for computations instead of creating a new array type?\n",
        "\n",
        "There are several reasons:\n",
        "\n",
        "* Python lists are very general. They can contain any kind of object. They are dynamically typed. They do not support mathematical functions such as matrix and dot multiplications, etc. Implementing such functions for Python lists would not be very efficient because of the dynamic typing.\n",
        "* Numpy arrays are **statically typed** and **homogeneous**. The type of the elements is determined when the array is created.\n",
        "* Numpy arrays are memory efficient.\n",
        "* Because of the static typing, fast implementation of mathematical functions such as multiplication and addition of `numpy` arrays can be implemented in a compiled language (C and Fortran is used).\n",
        "\n",
        "There are a number of ways to initialize new numpy arrays, for example from\n",
        "\n",
        "* a Python list or tuples\n",
        "* using functions that are dedicated to generating numpy arrays, such as `arange`, `linspace`, etc.\n",
        "* reading data from files"
      ]
    },
    {
      "cell_type": "markdown",
      "metadata": {
        "id": "mVY5dhRThDLp"
      },
      "source": [
        "### From lists"
      ]
    },
    {
      "cell_type": "markdown",
      "metadata": {
        "id": "mwY1r3lThDLp"
      },
      "source": [
        "For example, to create new vector and matrix arrays from Python lists we can use the `numpy.array` function."
      ]
    },
    {
      "cell_type": "code",
      "metadata": {
        "colab": {
          "base_uri": "https://localhost:8080/"
        },
        "id": "Rwq9adilhDLq",
        "outputId": "1c03bba2-bf52-41b5-c496-7083c1007d44"
      },
      "source": [
        "# a vector: the argument to the array function is a Python list\n",
        "v = np.array([1,2,3,8])\n",
        "v"
      ],
      "execution_count": 94,
      "outputs": [
        {
          "output_type": "execute_result",
          "data": {
            "text/plain": [
              "array([1, 2, 3, 8])"
            ]
          },
          "metadata": {},
          "execution_count": 94
        }
      ]
    },
    {
      "cell_type": "code",
      "metadata": {
        "colab": {
          "base_uri": "https://localhost:8080/"
        },
        "id": "IbnCcG75jwcS",
        "outputId": "e266682a-2914-4457-b1a1-20ea9fca6c0d"
      },
      "source": [
        "v1=[1, 2, 3, 8]\n",
        "v1"
      ],
      "execution_count": 95,
      "outputs": [
        {
          "output_type": "execute_result",
          "data": {
            "text/plain": [
              "[1, 2, 3, 8]"
            ]
          },
          "metadata": {},
          "execution_count": 95
        }
      ]
    },
    {
      "cell_type": "code",
      "source": [
        "print(v)\n",
        "v1"
      ],
      "metadata": {
        "id": "R_jch6AMckij",
        "outputId": "81aab445-da93-43fb-c22b-4436e8fc9b90",
        "colab": {
          "base_uri": "https://localhost:8080/"
        }
      },
      "execution_count": 99,
      "outputs": [
        {
          "output_type": "stream",
          "name": "stdout",
          "text": [
            "[1 2 3 8]\n"
          ]
        },
        {
          "output_type": "execute_result",
          "data": {
            "text/plain": [
              "[1, 2, 3, 8]"
            ]
          },
          "metadata": {},
          "execution_count": 99
        }
      ]
    },
    {
      "cell_type": "code",
      "source": [
        "v[0]=100.1 # viene castato ad intero\n",
        "v"
      ],
      "metadata": {
        "id": "R0rUFkBLd43j",
        "outputId": "504b3e87-5bdc-43b2-a880-29ebdd4f3f68",
        "colab": {
          "base_uri": "https://localhost:8080/"
        }
      },
      "execution_count": 110,
      "outputs": [
        {
          "output_type": "execute_result",
          "data": {
            "text/plain": [
              "array([100,   2,   3,   8])"
            ]
          },
          "metadata": {},
          "execution_count": 110
        }
      ]
    },
    {
      "cell_type": "code",
      "source": [
        "v.dtype # su v1 da errore perchè è una lista"
      ],
      "metadata": {
        "id": "J9jM2w_dc5fN",
        "outputId": "6a907aed-dedf-4e62-b5e1-3c5b9f0ae27e",
        "colab": {
          "base_uri": "https://localhost:8080/"
        }
      },
      "execution_count": 107,
      "outputs": [
        {
          "output_type": "execute_result",
          "data": {
            "text/plain": [
              "dtype('int64')"
            ]
          },
          "metadata": {},
          "execution_count": 107
        }
      ]
    },
    {
      "cell_type": "code",
      "source": [
        "v.shape  #numemro di elementi"
      ],
      "metadata": {
        "id": "ex9hBAzXdOqF",
        "outputId": "30f41e6d-ac60-41aa-d212-741c136a8f55",
        "colab": {
          "base_uri": "https://localhost:8080/"
        }
      },
      "execution_count": 106,
      "outputs": [
        {
          "output_type": "execute_result",
          "data": {
            "text/plain": [
              "(4,)"
            ]
          },
          "metadata": {},
          "execution_count": 106
        }
      ]
    },
    {
      "cell_type": "code",
      "source": [
        "v.ndim #"
      ],
      "metadata": {
        "id": "3vz6sMIYdXrD",
        "outputId": "e0aed24b-30a2-48ef-dfdb-d2592db29ee8",
        "colab": {
          "base_uri": "https://localhost:8080/"
        }
      },
      "execution_count": 108,
      "outputs": [
        {
          "output_type": "execute_result",
          "data": {
            "text/plain": [
              "1"
            ]
          },
          "metadata": {},
          "execution_count": 108
        }
      ]
    },
    {
      "cell_type": "code",
      "metadata": {
        "colab": {
          "base_uri": "https://localhost:8080/"
        },
        "id": "JVVXp2IWhDLq",
        "outputId": "9a52b490-d422-4be2-bb95-0827c55358da"
      },
      "source": [
        "# a matrix: the argument to the array function is a nested Python list\n",
        "M = np.array([[1.0, 2], [3, 4]]) # 1.0 rende gli elementi di M float\n",
        "print(M)\n",
        "M.dtype"
      ],
      "execution_count": 114,
      "outputs": [
        {
          "output_type": "stream",
          "name": "stdout",
          "text": [
            "[[1. 2.]\n",
            " [3. 4.]]\n"
          ]
        },
        {
          "output_type": "execute_result",
          "data": {
            "text/plain": [
              "dtype('float64')"
            ]
          },
          "metadata": {},
          "execution_count": 114
        }
      ]
    },
    {
      "cell_type": "markdown",
      "metadata": {
        "id": "CPNHNWMNhDLr"
      },
      "source": [
        "The `v` and `M` objects are both of the type `ndarray` that the `numpy` module provides."
      ]
    },
    {
      "cell_type": "code",
      "metadata": {
        "colab": {
          "base_uri": "https://localhost:8080/"
        },
        "id": "Pa6d1D9RhDLr",
        "outputId": "864c5be9-e1a2-4fc0-960d-1823fb87c430"
      },
      "source": [
        "type(v), type(M)"
      ],
      "execution_count": 115,
      "outputs": [
        {
          "output_type": "execute_result",
          "data": {
            "text/plain": [
              "(numpy.ndarray, numpy.ndarray)"
            ]
          },
          "metadata": {},
          "execution_count": 115
        }
      ]
    },
    {
      "cell_type": "markdown",
      "metadata": {
        "id": "fNFfVieEhDLs"
      },
      "source": [
        "### `ndarray` properties"
      ]
    },
    {
      "cell_type": "markdown",
      "metadata": {
        "id": "yu597kvRhDLs"
      },
      "source": [
        "The difference between the `v` and `M` arrays is only their shapes. We can get information about the shape of an array by using the `ndarray.shape` property."
      ]
    },
    {
      "cell_type": "code",
      "metadata": {
        "colab": {
          "base_uri": "https://localhost:8080/"
        },
        "id": "guRlq0-mhDLt",
        "outputId": "25123586-b879-46e0-9131-615259f1ea80"
      },
      "source": [
        "v.shape"
      ],
      "execution_count": 116,
      "outputs": [
        {
          "output_type": "execute_result",
          "data": {
            "text/plain": [
              "(4,)"
            ]
          },
          "metadata": {},
          "execution_count": 116
        }
      ]
    },
    {
      "cell_type": "code",
      "metadata": {
        "colab": {
          "base_uri": "https://localhost:8080/"
        },
        "id": "psGMNpkDhDLt",
        "outputId": "563cf1b1-f338-4079-eb4d-d6bb8bb9d8ec"
      },
      "source": [
        "M.shape"
      ],
      "execution_count": 117,
      "outputs": [
        {
          "output_type": "execute_result",
          "data": {
            "text/plain": [
              "(2, 2)"
            ]
          },
          "metadata": {},
          "execution_count": 117
        }
      ]
    },
    {
      "cell_type": "markdown",
      "metadata": {
        "id": "2Bkw2KjIhDLu"
      },
      "source": [
        "The number of elements in the array is available through the `ndarray.size` property:"
      ]
    },
    {
      "cell_type": "code",
      "metadata": {
        "colab": {
          "base_uri": "https://localhost:8080/"
        },
        "id": "Cr9CqODGhDLu",
        "outputId": "4f293d49-d85b-4dab-adb5-6a1cb98d48e2"
      },
      "source": [
        "M.size"
      ],
      "execution_count": 118,
      "outputs": [
        {
          "output_type": "execute_result",
          "data": {
            "text/plain": [
              "4"
            ]
          },
          "metadata": {},
          "execution_count": 118
        }
      ]
    },
    {
      "cell_type": "markdown",
      "metadata": {
        "id": "sn52fTjRhDLv"
      },
      "source": [
        "Equivalently, we could use the function `numpy.shape` and `numpy.size`"
      ]
    },
    {
      "cell_type": "code",
      "metadata": {
        "colab": {
          "base_uri": "https://localhost:8080/"
        },
        "id": "A7EgNgWAhDLv",
        "outputId": "3173a0e3-984f-4b36-f920-d6df39950cdf"
      },
      "source": [
        "shape(M)"
      ],
      "execution_count": 119,
      "outputs": [
        {
          "output_type": "execute_result",
          "data": {
            "text/plain": [
              "(2, 2)"
            ]
          },
          "metadata": {},
          "execution_count": 119
        }
      ]
    },
    {
      "cell_type": "code",
      "metadata": {
        "colab": {
          "base_uri": "https://localhost:8080/"
        },
        "id": "u5wp8pznhDLw",
        "outputId": "6a70d8a4-8d4a-441c-d677-d908bb37bc8b"
      },
      "source": [
        "size(M)"
      ],
      "execution_count": 120,
      "outputs": [
        {
          "output_type": "execute_result",
          "data": {
            "text/plain": [
              "4"
            ]
          },
          "metadata": {},
          "execution_count": 120
        }
      ]
    },
    {
      "cell_type": "markdown",
      "metadata": {
        "id": "okF80I7lhDLw"
      },
      "source": [
        "The number of dimensions of the array is available through the `ndarray.ndim` property:"
      ]
    },
    {
      "cell_type": "code",
      "metadata": {
        "colab": {
          "base_uri": "https://localhost:8080/"
        },
        "id": "iyXAh3wnhDLw",
        "outputId": "c5918a19-039c-4e54-c825-9081a978b720"
      },
      "source": [
        "v.ndim"
      ],
      "execution_count": 121,
      "outputs": [
        {
          "output_type": "execute_result",
          "data": {
            "text/plain": [
              "1"
            ]
          },
          "metadata": {},
          "execution_count": 121
        }
      ]
    },
    {
      "cell_type": "code",
      "metadata": {
        "colab": {
          "base_uri": "https://localhost:8080/"
        },
        "id": "9CufodsmhDLx",
        "outputId": "2a4410e1-d466-447e-bb33-912c590340da"
      },
      "source": [
        "M.ndim"
      ],
      "execution_count": 122,
      "outputs": [
        {
          "output_type": "execute_result",
          "data": {
            "text/plain": [
              "2"
            ]
          },
          "metadata": {},
          "execution_count": 122
        }
      ]
    },
    {
      "cell_type": "code",
      "metadata": {
        "colab": {
          "base_uri": "https://localhost:8080/"
        },
        "id": "UPW7u17EhDLx",
        "outputId": "d827deb7-15f4-449a-f2c1-882490ae3138"
      },
      "source": [
        "M.itemsize # bytes per element"
      ],
      "execution_count": 123,
      "outputs": [
        {
          "output_type": "execute_result",
          "data": {
            "text/plain": [
              "8"
            ]
          },
          "metadata": {},
          "execution_count": 123
        }
      ]
    },
    {
      "cell_type": "code",
      "metadata": {
        "colab": {
          "base_uri": "https://localhost:8080/"
        },
        "id": "rmCrh2M3hDLz",
        "outputId": "756f7c43-fed7-44e7-e5cf-11ee1ef7f36b"
      },
      "source": [
        "M.nbytes # number of bytes"
      ],
      "execution_count": 125,
      "outputs": [
        {
          "output_type": "execute_result",
          "data": {
            "text/plain": [
              "32"
            ]
          },
          "metadata": {},
          "execution_count": 125
        }
      ]
    },
    {
      "cell_type": "markdown",
      "metadata": {
        "id": "5PdCs9NLhDLz"
      },
      "source": [
        "Using the `dtype` (data type) property of an `ndarray`, we can see what type the data of an array has:"
      ]
    },
    {
      "cell_type": "code",
      "metadata": {
        "colab": {
          "base_uri": "https://localhost:8080/"
        },
        "id": "gauuGLyJhDL0",
        "outputId": "bbf2341c-2de8-4266-fb9e-fa28fe4031a2"
      },
      "source": [
        "M.dtype"
      ],
      "execution_count": 126,
      "outputs": [
        {
          "output_type": "execute_result",
          "data": {
            "text/plain": [
              "dtype('float64')"
            ]
          },
          "metadata": {},
          "execution_count": 126
        }
      ]
    },
    {
      "cell_type": "markdown",
      "metadata": {
        "id": "qijxN-TBhDL0"
      },
      "source": [
        "We get an error if we try to assign a value of the wrong type to an element in a numpy array:"
      ]
    },
    {
      "cell_type": "code",
      "metadata": {
        "id": "DAGb7aa-hDL0"
      },
      "source": [
        "#M[0,0] = \"hello\"  NON PUOI ASSEGANRE UNA STRING"
      ],
      "execution_count": 129,
      "outputs": []
    },
    {
      "cell_type": "markdown",
      "metadata": {
        "id": "IFgJAQBnhDL1"
      },
      "source": [
        "### Using array-generating functions"
      ]
    },
    {
      "cell_type": "markdown",
      "metadata": {
        "id": "iET7IK1phDL1"
      },
      "source": [
        "For larger arrays it is inpractical to initialize the data manually, using explicit python lists. Instead we can use one of the many functions in `numpy` that generate arrays of different forms. Some of the more common are:"
      ]
    },
    {
      "cell_type": "markdown",
      "metadata": {
        "id": "1DXp8dixhDL1"
      },
      "source": [
        "#### arange"
      ]
    },
    {
      "cell_type": "code",
      "metadata": {
        "id": "GfJW1yEBhDL2",
        "outputId": "aeedb90b-7637-465e-f3c4-649fbaba020f",
        "colab": {
          "base_uri": "https://localhost:8080/"
        }
      },
      "source": [
        "# create a range\n",
        "x = arange(0, 10, 1) # arguments: start, stop, step\n",
        "x"
      ],
      "execution_count": 130,
      "outputs": [
        {
          "output_type": "execute_result",
          "data": {
            "text/plain": [
              "array([0, 1, 2, 3, 4, 5, 6, 7, 8, 9])"
            ]
          },
          "metadata": {},
          "execution_count": 130
        }
      ]
    },
    {
      "cell_type": "code",
      "metadata": {
        "id": "3qloeawshDL3",
        "outputId": "5bee2819-b6c4-4faf-c02c-a6c71c1c8211",
        "colab": {
          "base_uri": "https://localhost:8080/"
        }
      },
      "source": [
        "x = arange(-1, 1, 0.1)\n",
        "x"
      ],
      "execution_count": 131,
      "outputs": [
        {
          "output_type": "execute_result",
          "data": {
            "text/plain": [
              "array([-1.00000000e+00, -9.00000000e-01, -8.00000000e-01, -7.00000000e-01,\n",
              "       -6.00000000e-01, -5.00000000e-01, -4.00000000e-01, -3.00000000e-01,\n",
              "       -2.00000000e-01, -1.00000000e-01, -2.22044605e-16,  1.00000000e-01,\n",
              "        2.00000000e-01,  3.00000000e-01,  4.00000000e-01,  5.00000000e-01,\n",
              "        6.00000000e-01,  7.00000000e-01,  8.00000000e-01,  9.00000000e-01])"
            ]
          },
          "metadata": {},
          "execution_count": 131
        }
      ]
    },
    {
      "cell_type": "markdown",
      "metadata": {
        "id": "kiL6ta82hDL4"
      },
      "source": [
        "#### linspace and logspace"
      ]
    },
    {
      "cell_type": "code",
      "metadata": {
        "id": "WG9lZDzchDL5",
        "outputId": "fe56aea6-8c8d-42d1-bad8-bf80564c7b76",
        "colab": {
          "base_uri": "https://localhost:8080/"
        }
      },
      "source": [
        "# using linspace, both end points ARE included\n",
        "linspace(0, 10, 20)  # da 0 a 10 con 20 intervalli"
      ],
      "execution_count": 19,
      "outputs": [
        {
          "output_type": "execute_result",
          "data": {
            "text/plain": [
              "array([ 0.        ,  0.52631579,  1.05263158,  1.57894737,  2.10526316,\n",
              "        2.63157895,  3.15789474,  3.68421053,  4.21052632,  4.73684211,\n",
              "        5.26315789,  5.78947368,  6.31578947,  6.84210526,  7.36842105,\n",
              "        7.89473684,  8.42105263,  8.94736842,  9.47368421, 10.        ])"
            ]
          },
          "metadata": {},
          "execution_count": 19
        }
      ]
    },
    {
      "cell_type": "code",
      "metadata": {
        "id": "GbNbpvb2hDL6",
        "outputId": "eb722f02-4321-4632-bff9-df21efeca5cc",
        "colab": {
          "base_uri": "https://localhost:8080/"
        }
      },
      "source": [
        "logspace(0, 2, 10, base=10)"
      ],
      "execution_count": 20,
      "outputs": [
        {
          "output_type": "execute_result",
          "data": {
            "text/plain": [
              "array([  1.        ,   1.66810054,   2.7825594 ,   4.64158883,\n",
              "         7.74263683,  12.91549665,  21.5443469 ,  35.93813664,\n",
              "        59.94842503, 100.        ])"
            ]
          },
          "metadata": {},
          "execution_count": 20
        }
      ]
    },
    {
      "cell_type": "markdown",
      "metadata": {
        "id": "5Ulvo3QBhDL7"
      },
      "source": [
        "#### meshgrid"
      ]
    },
    {
      "cell_type": "code",
      "metadata": {
        "id": "kAaScryGhDL8"
      },
      "source": [
        "xa = linspace(-5, 5, 11)\n",
        "ya = linspace(-3, 3, 7)\n",
        "x, y = meshgrid(xa, ya) # similar to meshgrid in MATLAB"
      ],
      "execution_count": 132,
      "outputs": []
    },
    {
      "cell_type": "code",
      "metadata": {
        "id": "CRefBd3KhDL8",
        "outputId": "2aa52609-72c2-4893-995b-36475c3466ef",
        "colab": {
          "base_uri": "https://localhost:8080/"
        }
      },
      "source": [
        "x"
      ],
      "execution_count": 22,
      "outputs": [
        {
          "output_type": "execute_result",
          "data": {
            "text/plain": [
              "array([[-5., -4., -3., -2., -1.,  0.,  1.,  2.,  3.,  4.,  5.],\n",
              "       [-5., -4., -3., -2., -1.,  0.,  1.,  2.,  3.,  4.,  5.],\n",
              "       [-5., -4., -3., -2., -1.,  0.,  1.,  2.,  3.,  4.,  5.],\n",
              "       [-5., -4., -3., -2., -1.,  0.,  1.,  2.,  3.,  4.,  5.],\n",
              "       [-5., -4., -3., -2., -1.,  0.,  1.,  2.,  3.,  4.,  5.],\n",
              "       [-5., -4., -3., -2., -1.,  0.,  1.,  2.,  3.,  4.,  5.],\n",
              "       [-5., -4., -3., -2., -1.,  0.,  1.,  2.,  3.,  4.,  5.]])"
            ]
          },
          "metadata": {},
          "execution_count": 22
        }
      ]
    },
    {
      "cell_type": "code",
      "metadata": {
        "id": "xamLbjQEhDL9",
        "outputId": "05c41510-e357-423c-c790-4ec92ae784d5",
        "colab": {
          "base_uri": "https://localhost:8080/"
        }
      },
      "source": [
        "y"
      ],
      "execution_count": 23,
      "outputs": [
        {
          "output_type": "execute_result",
          "data": {
            "text/plain": [
              "array([[-3., -3., -3., -3., -3., -3., -3., -3., -3., -3., -3.],\n",
              "       [-2., -2., -2., -2., -2., -2., -2., -2., -2., -2., -2.],\n",
              "       [-1., -1., -1., -1., -1., -1., -1., -1., -1., -1., -1.],\n",
              "       [ 0.,  0.,  0.,  0.,  0.,  0.,  0.,  0.,  0.,  0.,  0.],\n",
              "       [ 1.,  1.,  1.,  1.,  1.,  1.,  1.,  1.,  1.,  1.,  1.],\n",
              "       [ 2.,  2.,  2.,  2.,  2.,  2.,  2.,  2.,  2.,  2.,  2.],\n",
              "       [ 3.,  3.,  3.,  3.,  3.,  3.,  3.,  3.,  3.,  3.,  3.]])"
            ]
          },
          "metadata": {},
          "execution_count": 23
        }
      ]
    },
    {
      "cell_type": "markdown",
      "metadata": {
        "id": "-LKKw48FhDL9"
      },
      "source": [
        "#### diag"
      ]
    },
    {
      "cell_type": "code",
      "metadata": {
        "id": "H2WBAu5EhDL9",
        "outputId": "f29f5f18-06ce-48f8-872f-6d8edfa82920",
        "colab": {
          "base_uri": "https://localhost:8080/"
        }
      },
      "source": [
        "# a diagonal matrix\n",
        "diag([1,2,3])"
      ],
      "execution_count": 133,
      "outputs": [
        {
          "output_type": "execute_result",
          "data": {
            "text/plain": [
              "array([[1, 0, 0],\n",
              "       [0, 2, 0],\n",
              "       [0, 0, 3]])"
            ]
          },
          "metadata": {},
          "execution_count": 133
        }
      ]
    },
    {
      "cell_type": "code",
      "metadata": {
        "id": "sWxbyZk4hDL-",
        "outputId": "8ae1f8ff-4d4a-4376-bee5-b54c58e1f25b",
        "colab": {
          "base_uri": "https://localhost:8080/"
        }
      },
      "source": [
        "# diagonal with offset from the main diagonal\n",
        "diag([1,2,3], k=1)    # offset messo in basso a sx"
      ],
      "execution_count": 134,
      "outputs": [
        {
          "output_type": "execute_result",
          "data": {
            "text/plain": [
              "array([[0, 1, 0, 0],\n",
              "       [0, 0, 2, 0],\n",
              "       [0, 0, 0, 3],\n",
              "       [0, 0, 0, 0]])"
            ]
          },
          "metadata": {},
          "execution_count": 134
        }
      ]
    },
    {
      "cell_type": "markdown",
      "metadata": {
        "id": "lXGKSmTbhDL-"
      },
      "source": [
        "#### zeros and ones"
      ]
    },
    {
      "cell_type": "code",
      "metadata": {
        "id": "WX9HC7FvhDL-",
        "outputId": "c6461e76-5abd-422e-e7a4-b57652f57f6b",
        "colab": {
          "base_uri": "https://localhost:8080/"
        }
      },
      "source": [
        "zeros((3,3))"
      ],
      "execution_count": 135,
      "outputs": [
        {
          "output_type": "execute_result",
          "data": {
            "text/plain": [
              "array([[0., 0., 0.],\n",
              "       [0., 0., 0.],\n",
              "       [0., 0., 0.]])"
            ]
          },
          "metadata": {},
          "execution_count": 135
        }
      ]
    },
    {
      "cell_type": "code",
      "metadata": {
        "id": "36KXjfKthDL_",
        "outputId": "62379649-4dca-4dd8-dbc2-1145acce0f92",
        "colab": {
          "base_uri": "https://localhost:8080/"
        }
      },
      "source": [
        "ones((2,3,3)) # tensore costituito da 2 matrici 3*3"
      ],
      "execution_count": 144,
      "outputs": [
        {
          "output_type": "execute_result",
          "data": {
            "text/plain": [
              "array([[[1., 1., 1.],\n",
              "        [1., 1., 1.],\n",
              "        [1., 1., 1.]],\n",
              "\n",
              "       [[1., 1., 1.],\n",
              "        [1., 1., 1.],\n",
              "        [1., 1., 1.]]])"
            ]
          },
          "metadata": {},
          "execution_count": 144
        }
      ]
    },
    {
      "cell_type": "markdown",
      "metadata": {
        "id": "aKXFwlK1hDL_"
      },
      "source": [
        "#### identity"
      ]
    },
    {
      "cell_type": "code",
      "metadata": {
        "id": "PBwZOcdohDL_",
        "outputId": "93f57c8f-6fe8-4d78-c5ca-b1025e1de2ce",
        "colab": {
          "base_uri": "https://localhost:8080/"
        }
      },
      "source": [
        "identity(3)"
      ],
      "execution_count": 28,
      "outputs": [
        {
          "output_type": "execute_result",
          "data": {
            "text/plain": [
              "array([[1., 0., 0.],\n",
              "       [0., 1., 0.],\n",
              "       [0., 0., 1.]])"
            ]
          },
          "metadata": {},
          "execution_count": 28
        }
      ]
    },
    {
      "cell_type": "markdown",
      "metadata": {
        "id": "yILs9qgWsaDf"
      },
      "source": [
        "The numpy.eye() method returns an array of shape, R x C, where all elements are equal to zero, except for the kth diagonal, whose values are equal to one."
      ]
    },
    {
      "cell_type": "code",
      "metadata": {
        "id": "uwskRZMms2ro",
        "outputId": "11467906-d644-41f9-a62f-b4adb75d1d4e",
        "colab": {
          "base_uri": "https://localhost:8080/"
        }
      },
      "source": [
        "# 2x2 matrix with 1's on main diagonal\n",
        "obj1 = numpy.eye(2, dtype = float)\n",
        "print(\"Matrix : \\n\", obj1)\n",
        "# matrix with Row=2 Column=3 and diagonal=1\n",
        "obj2 = np.eye(2, 3, k = 1)\n",
        "print(\"\\nMatrix : \\n\", obj2)"
      ],
      "execution_count": 29,
      "outputs": [
        {
          "output_type": "stream",
          "name": "stdout",
          "text": [
            "Matrix : \n",
            " [[1. 0.]\n",
            " [0. 1.]]\n",
            "\n",
            "Matrix : \n",
            " [[0. 1. 0.]\n",
            " [0. 0. 1.]]\n"
          ]
        }
      ]
    },
    {
      "cell_type": "markdown",
      "metadata": {
        "id": "nFt60qXMhDL_"
      },
      "source": [
        "#### zeros_like and ones_like"
      ]
    },
    {
      "cell_type": "code",
      "metadata": {
        "id": "1MDGd9q-hDMA",
        "outputId": "735c7db4-bf3e-43d1-870a-6c4d0c94191c",
        "colab": {
          "base_uri": "https://localhost:8080/"
        }
      },
      "source": [
        "zeros_like(x)"
      ],
      "execution_count": 30,
      "outputs": [
        {
          "output_type": "execute_result",
          "data": {
            "text/plain": [
              "array([[0., 0., 0., 0., 0., 0., 0., 0., 0., 0., 0.],\n",
              "       [0., 0., 0., 0., 0., 0., 0., 0., 0., 0., 0.],\n",
              "       [0., 0., 0., 0., 0., 0., 0., 0., 0., 0., 0.],\n",
              "       [0., 0., 0., 0., 0., 0., 0., 0., 0., 0., 0.],\n",
              "       [0., 0., 0., 0., 0., 0., 0., 0., 0., 0., 0.],\n",
              "       [0., 0., 0., 0., 0., 0., 0., 0., 0., 0., 0.],\n",
              "       [0., 0., 0., 0., 0., 0., 0., 0., 0., 0., 0.]])"
            ]
          },
          "metadata": {},
          "execution_count": 30
        }
      ]
    },
    {
      "cell_type": "code",
      "metadata": {
        "id": "nVbqy8dAhDMA",
        "outputId": "f90a9658-eee8-4615-9168-7f04472e1125",
        "colab": {
          "base_uri": "https://localhost:8080/"
        }
      },
      "source": [
        "ones_like(x)"
      ],
      "execution_count": 31,
      "outputs": [
        {
          "output_type": "execute_result",
          "data": {
            "text/plain": [
              "array([[1., 1., 1., 1., 1., 1., 1., 1., 1., 1., 1.],\n",
              "       [1., 1., 1., 1., 1., 1., 1., 1., 1., 1., 1.],\n",
              "       [1., 1., 1., 1., 1., 1., 1., 1., 1., 1., 1.],\n",
              "       [1., 1., 1., 1., 1., 1., 1., 1., 1., 1., 1.],\n",
              "       [1., 1., 1., 1., 1., 1., 1., 1., 1., 1., 1.],\n",
              "       [1., 1., 1., 1., 1., 1., 1., 1., 1., 1., 1.],\n",
              "       [1., 1., 1., 1., 1., 1., 1., 1., 1., 1., 1.]])"
            ]
          },
          "metadata": {},
          "execution_count": 31
        }
      ]
    },
    {
      "cell_type": "markdown",
      "metadata": {
        "id": "di7myYzthDMA"
      },
      "source": [
        "## Manipulating arrays"
      ]
    },
    {
      "cell_type": "markdown",
      "metadata": {
        "id": "BofXEd7GhDMA"
      },
      "source": [
        "### Indexing"
      ]
    },
    {
      "cell_type": "markdown",
      "metadata": {
        "id": "7S1AcPrMhDMB"
      },
      "source": [
        "We can index elements in an array using square brackets and indices:"
      ]
    },
    {
      "cell_type": "code",
      "metadata": {
        "id": "lNWypReZhDMB",
        "outputId": "66a1180b-dca2-4c53-93c8-fff473650750",
        "colab": {
          "base_uri": "https://localhost:8080/"
        }
      },
      "source": [
        "# v is a vector, and has only one dimension, taking one index\n",
        "v[0]"
      ],
      "execution_count": 147,
      "outputs": [
        {
          "output_type": "execute_result",
          "data": {
            "text/plain": [
              "100"
            ]
          },
          "metadata": {},
          "execution_count": 147
        }
      ]
    },
    {
      "cell_type": "code",
      "metadata": {
        "id": "K2Jmuf8whDMB",
        "outputId": "1aba0df0-b3cc-4f2f-e384-ae57f268aa81",
        "colab": {
          "base_uri": "https://localhost:8080/"
        }
      },
      "source": [
        "# M is a matrix, or a 2 dimensional array. Index could be chained\n",
        "M[1][1]"
      ],
      "execution_count": 146,
      "outputs": [
        {
          "output_type": "execute_result",
          "data": {
            "text/plain": [
              "4.0"
            ]
          },
          "metadata": {},
          "execution_count": 146
        }
      ]
    },
    {
      "cell_type": "code",
      "metadata": {
        "id": "bvby179ihDMC",
        "outputId": "0e1d3ffc-9133-4d38-c423-3941a4a2b049",
        "colab": {
          "base_uri": "https://localhost:8080/"
        }
      },
      "source": [
        "# M is a matrix, or a 2 dimensional array, index can take also two indices\n",
        "M[-2,1] # -1 indica che si parte dall'ultimo argomento\n",
        "#oss. diventa errore da -3"
      ],
      "execution_count": 156,
      "outputs": [
        {
          "output_type": "execute_result",
          "data": {
            "text/plain": [
              "2.0"
            ]
          },
          "metadata": {},
          "execution_count": 156
        }
      ]
    },
    {
      "cell_type": "markdown",
      "metadata": {
        "id": "xQbKJ69hhDMF"
      },
      "source": [
        "If we omit an index of a multidimensional array it returns the whole row (or, in general, a N-1 dimensional array)"
      ]
    },
    {
      "cell_type": "code",
      "metadata": {
        "id": "RPioOG6IhDMF",
        "outputId": "2df715d5-45da-4181-bb8c-521893587742",
        "colab": {
          "base_uri": "https://localhost:8080/"
        }
      },
      "source": [
        "M"
      ],
      "execution_count": 158,
      "outputs": [
        {
          "output_type": "execute_result",
          "data": {
            "text/plain": [
              "array([[1., 2.],\n",
              "       [3., 4.]])"
            ]
          },
          "metadata": {},
          "execution_count": 158
        }
      ]
    },
    {
      "cell_type": "code",
      "metadata": {
        "id": "NPdg7nE-hDMF",
        "outputId": "3360f506-b307-4202-cfaa-4b315df6b462",
        "colab": {
          "base_uri": "https://localhost:8080/"
        }
      },
      "source": [
        "M[1]"
      ],
      "execution_count": 36,
      "outputs": [
        {
          "output_type": "execute_result",
          "data": {
            "text/plain": [
              "array([3, 4])"
            ]
          },
          "metadata": {},
          "execution_count": 36
        }
      ]
    },
    {
      "cell_type": "markdown",
      "metadata": {
        "id": "QxXYXG09hDMG"
      },
      "source": [
        "The same thing can be achieved with using `:` instead of an index:"
      ]
    },
    {
      "cell_type": "code",
      "metadata": {
        "id": "QyRDbHM7hDMG",
        "outputId": "a9534443-599c-4c51-acee-953b8fd73b8f",
        "colab": {
          "base_uri": "https://localhost:8080/"
        }
      },
      "source": [
        "M[1,:] # row 1"
      ],
      "execution_count": 37,
      "outputs": [
        {
          "output_type": "execute_result",
          "data": {
            "text/plain": [
              "array([3, 4])"
            ]
          },
          "metadata": {},
          "execution_count": 37
        }
      ]
    },
    {
      "cell_type": "code",
      "metadata": {
        "id": "fr4d_2IlhDMH",
        "outputId": "00f0c1b3-c4a1-41dd-d708-631e29a9399c",
        "colab": {
          "base_uri": "https://localhost:8080/"
        }
      },
      "source": [
        "M[:,1] # column 1"
      ],
      "execution_count": 38,
      "outputs": [
        {
          "output_type": "execute_result",
          "data": {
            "text/plain": [
              "array([2, 4])"
            ]
          },
          "metadata": {},
          "execution_count": 38
        }
      ]
    },
    {
      "cell_type": "markdown",
      "metadata": {
        "id": "iO2CBCzRhDMH"
      },
      "source": [
        "We can assign new values to elements in an array using indexing:"
      ]
    },
    {
      "cell_type": "code",
      "metadata": {
        "id": "PHNfzSAvhDMI"
      },
      "source": [
        "M[0,0] = -1"
      ],
      "execution_count": 39,
      "outputs": []
    },
    {
      "cell_type": "code",
      "metadata": {
        "id": "0XrhpTC4hDMI",
        "outputId": "1f77a047-6bcd-45c2-ce8d-038ab8dac446",
        "colab": {
          "base_uri": "https://localhost:8080/"
        }
      },
      "source": [
        "M"
      ],
      "execution_count": 40,
      "outputs": [
        {
          "output_type": "execute_result",
          "data": {
            "text/plain": [
              "array([[-1,  2],\n",
              "       [ 3,  4]])"
            ]
          },
          "metadata": {},
          "execution_count": 40
        }
      ]
    },
    {
      "cell_type": "code",
      "metadata": {
        "id": "GVhscd4BhDMJ"
      },
      "source": [
        "# also works for rows and columns\n",
        "M[0,:] = 0\n",
        "M[:,1] = -1"
      ],
      "execution_count": 41,
      "outputs": []
    },
    {
      "cell_type": "code",
      "metadata": {
        "id": "9HS3WYYWhDML",
        "outputId": "7cf74cd7-aecb-497d-e9f1-e371cdfca6b0",
        "colab": {
          "base_uri": "https://localhost:8080/"
        }
      },
      "source": [
        "M"
      ],
      "execution_count": 42,
      "outputs": [
        {
          "output_type": "execute_result",
          "data": {
            "text/plain": [
              "array([[ 0, -1],\n",
              "       [ 3, -1]])"
            ]
          },
          "metadata": {},
          "execution_count": 42
        }
      ]
    },
    {
      "cell_type": "markdown",
      "metadata": {
        "id": "co2TDTKkhDMM"
      },
      "source": [
        "### Index slicing"
      ]
    },
    {
      "cell_type": "markdown",
      "metadata": {
        "id": "--8s6Nn-hDMM"
      },
      "source": [
        "Index slicing is the technical name for the syntax `M[lower:upper:step]` to extract part of an array:"
      ]
    },
    {
      "cell_type": "code",
      "metadata": {
        "id": "2ssgsZcfhDMN",
        "outputId": "4edfc9e4-ed6f-4c74-c173-b444521028f9",
        "colab": {
          "base_uri": "https://localhost:8080/"
        }
      },
      "source": [
        "A = array([1,2,3,4,5])\n",
        "A"
      ],
      "execution_count": 159,
      "outputs": [
        {
          "output_type": "execute_result",
          "data": {
            "text/plain": [
              "array([1, 2, 3, 4, 5])"
            ]
          },
          "metadata": {},
          "execution_count": 159
        }
      ]
    },
    {
      "cell_type": "code",
      "metadata": {
        "id": "Z9eAXr02hDMN",
        "outputId": "35a50725-5b60-4346-9262-55cb5e094d75",
        "colab": {
          "base_uri": "https://localhost:8080/"
        }
      },
      "source": [
        "A[1:3] # prende il 2 e 3 elemento"
      ],
      "execution_count": 160,
      "outputs": [
        {
          "output_type": "execute_result",
          "data": {
            "text/plain": [
              "array([2, 3])"
            ]
          },
          "metadata": {},
          "execution_count": 160
        }
      ]
    },
    {
      "cell_type": "markdown",
      "metadata": {
        "id": "yB3A_FcthDMN"
      },
      "source": [
        "Array slices are *mutable*: if they are assigned a new value the original array from which the slice was extracted is modified:"
      ]
    },
    {
      "cell_type": "code",
      "metadata": {
        "id": "XnXsdVRChDMO",
        "outputId": "7e892e74-94c1-4004-ba90-659f1b1bedca",
        "colab": {
          "base_uri": "https://localhost:8080/"
        }
      },
      "source": [
        "A[1:3] = [-2,-3]\n",
        "\n",
        "A"
      ],
      "execution_count": 45,
      "outputs": [
        {
          "output_type": "execute_result",
          "data": {
            "text/plain": [
              "array([ 1, -2, -3,  4,  5])"
            ]
          },
          "metadata": {},
          "execution_count": 45
        }
      ]
    },
    {
      "cell_type": "markdown",
      "metadata": {
        "id": "nuVMNKwLhDMO"
      },
      "source": [
        "We can omit any of the three parameters in `M[lower:upper:step]`:"
      ]
    },
    {
      "cell_type": "code",
      "metadata": {
        "id": "pm94HdxzhDMO",
        "outputId": "6e0dd8b3-68e7-40d5-a985-47d05a47f9ed",
        "colab": {
          "base_uri": "https://localhost:8080/"
        }
      },
      "source": [
        "A[::] # lower, upper, step all take the default values"
      ],
      "execution_count": 46,
      "outputs": [
        {
          "output_type": "execute_result",
          "data": {
            "text/plain": [
              "array([ 1, -2, -3,  4,  5])"
            ]
          },
          "metadata": {},
          "execution_count": 46
        }
      ]
    },
    {
      "cell_type": "code",
      "metadata": {
        "id": "toSZ74IPhDMP",
        "outputId": "78d764f4-22d0-47a6-ab72-71a0764883c0",
        "colab": {
          "base_uri": "https://localhost:8080/"
        }
      },
      "source": [
        "A[::2] # step is 2, lower and upper defaults to the beginning and end of the array"
      ],
      "execution_count": 47,
      "outputs": [
        {
          "output_type": "execute_result",
          "data": {
            "text/plain": [
              "array([ 1, -3,  5])"
            ]
          },
          "metadata": {},
          "execution_count": 47
        }
      ]
    },
    {
      "cell_type": "code",
      "metadata": {
        "id": "lhX1lll-hDMP",
        "outputId": "e06a2236-27c7-445d-e6b3-51b8911bd28a",
        "colab": {
          "base_uri": "https://localhost:8080/"
        }
      },
      "source": [
        "A[:3] # first three elements"
      ],
      "execution_count": 48,
      "outputs": [
        {
          "output_type": "execute_result",
          "data": {
            "text/plain": [
              "array([ 1, -2, -3])"
            ]
          },
          "metadata": {},
          "execution_count": 48
        }
      ]
    },
    {
      "cell_type": "code",
      "metadata": {
        "id": "C0TAsWb2hDMP",
        "outputId": "810a19c1-764e-4e2f-d1a7-fe0c97d3622f",
        "colab": {
          "base_uri": "https://localhost:8080/"
        }
      },
      "source": [
        "A[3:] # elements from index 3"
      ],
      "execution_count": 49,
      "outputs": [
        {
          "output_type": "execute_result",
          "data": {
            "text/plain": [
              "array([4, 5])"
            ]
          },
          "metadata": {},
          "execution_count": 49
        }
      ]
    },
    {
      "cell_type": "markdown",
      "metadata": {
        "id": "62Wt3AnohDMQ"
      },
      "source": [
        "Negative indices counts from the end of the array (positive index from the begining):"
      ]
    },
    {
      "cell_type": "code",
      "metadata": {
        "id": "CsN6ezzwhDMQ"
      },
      "source": [
        "A = array([1,2,3,4,5])"
      ],
      "execution_count": 50,
      "outputs": []
    },
    {
      "cell_type": "code",
      "metadata": {
        "id": "AwRYCZ9lhDMQ",
        "outputId": "167f8168-b4ff-4b64-c4d0-825994f4e4ba",
        "colab": {
          "base_uri": "https://localhost:8080/"
        }
      },
      "source": [
        "A[-1] # the last element in the array"
      ],
      "execution_count": 51,
      "outputs": [
        {
          "output_type": "execute_result",
          "data": {
            "text/plain": [
              "5"
            ]
          },
          "metadata": {},
          "execution_count": 51
        }
      ]
    },
    {
      "cell_type": "code",
      "metadata": {
        "id": "fNpfCjvChDMQ",
        "outputId": "1d2a7878-84b2-41da-a4aa-b8def8a8dcdf",
        "colab": {
          "base_uri": "https://localhost:8080/"
        }
      },
      "source": [
        "A[-3:] # the last three elements"
      ],
      "execution_count": 52,
      "outputs": [
        {
          "output_type": "execute_result",
          "data": {
            "text/plain": [
              "array([3, 4, 5])"
            ]
          },
          "metadata": {},
          "execution_count": 52
        }
      ]
    },
    {
      "cell_type": "markdown",
      "metadata": {
        "id": "AuA6mQ_ahDMR"
      },
      "source": [
        "Index slicing works exactly the same way for multidimensional arrays:"
      ]
    },
    {
      "cell_type": "code",
      "metadata": {
        "id": "KTAtiz14hDMR",
        "outputId": "c0912425-b00e-41bc-c119-3939f066aa19",
        "colab": {
          "base_uri": "https://localhost:8080/"
        }
      },
      "source": [
        "A = array([[n+m*10 for n in range(5)] for m in range(5)]) # note nested list comprehension\n",
        "A"
      ],
      "execution_count": 53,
      "outputs": [
        {
          "output_type": "execute_result",
          "data": {
            "text/plain": [
              "array([[ 0,  1,  2,  3,  4],\n",
              "       [10, 11, 12, 13, 14],\n",
              "       [20, 21, 22, 23, 24],\n",
              "       [30, 31, 32, 33, 34],\n",
              "       [40, 41, 42, 43, 44]])"
            ]
          },
          "metadata": {},
          "execution_count": 53
        }
      ]
    },
    {
      "cell_type": "code",
      "metadata": {
        "id": "grNRPwfHhDMR",
        "outputId": "c1878ed7-c5f4-405e-e976-7bebb3d6007f",
        "colab": {
          "base_uri": "https://localhost:8080/"
        }
      },
      "source": [
        "# a block from the original array\n",
        "A[1:4, 1:4]"
      ],
      "execution_count": 54,
      "outputs": [
        {
          "output_type": "execute_result",
          "data": {
            "text/plain": [
              "array([[11, 12, 13],\n",
              "       [21, 22, 23],\n",
              "       [31, 32, 33]])"
            ]
          },
          "metadata": {},
          "execution_count": 54
        }
      ]
    },
    {
      "cell_type": "code",
      "metadata": {
        "id": "jf9cAak_hDMS",
        "outputId": "bbd6dabf-2f9d-461c-bd1e-6421ed74bb81",
        "colab": {
          "base_uri": "https://localhost:8080/"
        }
      },
      "source": [
        "# strides\n",
        "A[::2, ::2]"
      ],
      "execution_count": 55,
      "outputs": [
        {
          "output_type": "execute_result",
          "data": {
            "text/plain": [
              "array([[ 0,  2,  4],\n",
              "       [20, 22, 24],\n",
              "       [40, 42, 44]])"
            ]
          },
          "metadata": {},
          "execution_count": 55
        }
      ]
    },
    {
      "cell_type": "markdown",
      "metadata": {
        "id": "GLwXTexohDMS"
      },
      "source": [
        "### Fancy indexing"
      ]
    },
    {
      "cell_type": "markdown",
      "metadata": {
        "id": "09tepHYWhDMT"
      },
      "source": [
        "Fancy indexing is the name for when an array or list is used in-place of an index:"
      ]
    },
    {
      "cell_type": "code",
      "metadata": {
        "id": "DJ61rVNShDMT",
        "outputId": "b5f2a1e4-c85b-4b7c-ba02-7f9c11807795",
        "colab": {
          "base_uri": "https://localhost:8080/"
        }
      },
      "source": [
        "row_indices = [1, 2, 3]\n",
        "A[row_indices]"
      ],
      "execution_count": 56,
      "outputs": [
        {
          "output_type": "execute_result",
          "data": {
            "text/plain": [
              "array([[10, 11, 12, 13, 14],\n",
              "       [20, 21, 22, 23, 24],\n",
              "       [30, 31, 32, 33, 34]])"
            ]
          },
          "metadata": {},
          "execution_count": 56
        }
      ]
    },
    {
      "cell_type": "code",
      "metadata": {
        "id": "LnfVgbYOhDMT",
        "outputId": "2311cb94-18ba-4799-c101-2de8f7a2194e",
        "colab": {
          "base_uri": "https://localhost:8080/"
        }
      },
      "source": [
        "col_indices = [1, 2, -1] # remember, index -1 means the last element\n",
        "A[row_indices, col_indices]"
      ],
      "execution_count": 57,
      "outputs": [
        {
          "output_type": "execute_result",
          "data": {
            "text/plain": [
              "array([11, 22, 34])"
            ]
          },
          "metadata": {},
          "execution_count": 57
        }
      ]
    },
    {
      "cell_type": "markdown",
      "metadata": {
        "id": "6G3AUklshDMU"
      },
      "source": [
        "We can also use index masks: If the index mask is an Numpy array of data type `bool`, then an element is selected (True) or not (False) depending on the value of the index mask at the position of each element:"
      ]
    },
    {
      "cell_type": "code",
      "metadata": {
        "id": "7TDLpMQUhDMU",
        "outputId": "cbea20af-3f77-460a-dddf-7aeb061f4232",
        "colab": {
          "base_uri": "https://localhost:8080/"
        }
      },
      "source": [
        "B = array([n for n in range(5)])\n",
        "B"
      ],
      "execution_count": 58,
      "outputs": [
        {
          "output_type": "execute_result",
          "data": {
            "text/plain": [
              "array([0, 1, 2, 3, 4])"
            ]
          },
          "metadata": {},
          "execution_count": 58
        }
      ]
    },
    {
      "cell_type": "code",
      "metadata": {
        "id": "YfNDh7aihDMU",
        "outputId": "78b27505-e7be-4a25-90b3-a2b6bcc5ec50",
        "colab": {
          "base_uri": "https://localhost:8080/"
        }
      },
      "source": [
        "row_mask = array([True, False, True, False, False])\n",
        "B[row_mask]"
      ],
      "execution_count": 59,
      "outputs": [
        {
          "output_type": "execute_result",
          "data": {
            "text/plain": [
              "array([0, 2])"
            ]
          },
          "metadata": {},
          "execution_count": 59
        }
      ]
    },
    {
      "cell_type": "code",
      "metadata": {
        "id": "QCEz0WNohDMV",
        "outputId": "b236c928-5155-478d-dc04-1fe954e7d6e7",
        "colab": {
          "base_uri": "https://localhost:8080/"
        }
      },
      "source": [
        "# same thing\n",
        "row_mask = array([1,0,1,0,0], dtype=bool)\n",
        "B[row_mask]"
      ],
      "execution_count": 60,
      "outputs": [
        {
          "output_type": "execute_result",
          "data": {
            "text/plain": [
              "array([0, 2])"
            ]
          },
          "metadata": {},
          "execution_count": 60
        }
      ]
    },
    {
      "cell_type": "markdown",
      "metadata": {
        "id": "-o5cnJQahDMV"
      },
      "source": [
        "This feature is very useful to conditionally select elements from an array, using for example comparison operators:"
      ]
    },
    {
      "cell_type": "code",
      "metadata": {
        "id": "PAKepkCmhDMV",
        "outputId": "655563e2-1290-455b-eac3-baee1925419c",
        "colab": {
          "base_uri": "https://localhost:8080/"
        }
      },
      "source": [
        "x = arange(0, 10, 0.5)\n",
        "x"
      ],
      "execution_count": 61,
      "outputs": [
        {
          "output_type": "execute_result",
          "data": {
            "text/plain": [
              "array([0. , 0.5, 1. , 1.5, 2. , 2.5, 3. , 3.5, 4. , 4.5, 5. , 5.5, 6. ,\n",
              "       6.5, 7. , 7.5, 8. , 8.5, 9. , 9.5])"
            ]
          },
          "metadata": {},
          "execution_count": 61
        }
      ]
    },
    {
      "cell_type": "markdown",
      "metadata": {
        "id": "mDPkSihThDMX"
      },
      "source": [
        "### bitwise opeartions with boolean arrays\n",
        "\n",
        "<table>\n",
        "  <tr>\n",
        "    <th>Operator</th>\n",
        "    <th>Function</th>\n",
        "    <th>Description</th>\n",
        "  </tr>\n",
        "  <tr>\n",
        "    <td><code>&amp;</code></td>\n",
        "    <td><code>bitwise_and(x1, x2)</code></td>\n",
        "    <td>Compute the bit-wise AND of two arrays element-wise.</td>\n",
        "  </tr>\n",
        "  <tr>\n",
        "    <td><code>|</code></td>\n",
        "    <td><code>bitwise_or(x1, x2)</code></td>\n",
        "    <td>Compute the bit-wise OR of two arrays element-wise.</td>\n",
        "  </tr>\n",
        "  <tr>\n",
        "    <td><code>^</code></td>\n",
        "    <td><code>bitwise_xor(x1, x2)</code></td>\n",
        "    <td>Compute the bit-wise XOR of two arrays element-wise.</td>\n",
        "  </tr>\n",
        "  <tr>\n",
        "    <td><code>~</code></td>\n",
        "    <td><code>invert(x)</code></td>\n",
        "    <td>Compute bit-wise inversion, or bit-wise NOT, element-wise.</td>\n",
        "  </tr>\n",
        "</table>"
      ]
    },
    {
      "cell_type": "code",
      "metadata": {
        "id": "-hFaMIlShDMY",
        "outputId": "0aacb563-1724-436f-db38-e3ee3306ee94",
        "colab": {
          "base_uri": "https://localhost:8080/"
        }
      },
      "source": [
        "mask = (5 < x) & (x <= 7)\n",
        "print(mask)\n",
        "print(x[mask])"
      ],
      "execution_count": 162,
      "outputs": [
        {
          "output_type": "stream",
          "name": "stdout",
          "text": [
            "[[False False False False False False False False False False False]\n",
            " [False False False False False False False False False False False]\n",
            " [False False False False False False False False False False False]\n",
            " [False False False False False False False False False False False]\n",
            " [False False False False False False False False False False False]\n",
            " [False False False False False False False False False False False]\n",
            " [False False False False False False False False False False False]]\n",
            "[]\n"
          ]
        }
      ]
    },
    {
      "cell_type": "code",
      "metadata": {
        "id": "vTV945dDhDMY",
        "outputId": "4852a7de-3f07-408a-9528-8efc9c99cafd",
        "colab": {
          "base_uri": "https://localhost:8080/"
        }
      },
      "source": [
        "mask = (x < 4) | (x > 7)\n",
        "print(mask)\n",
        "print(x[mask])"
      ],
      "execution_count": 63,
      "outputs": [
        {
          "output_type": "stream",
          "name": "stdout",
          "text": [
            "[ True  True  True  True  True  True  True  True False False False False\n",
            " False False False  True  True  True  True  True]\n",
            "[0.  0.5 1.  1.5 2.  2.5 3.  3.5 7.5 8.  8.5 9.  9.5]\n"
          ]
        }
      ]
    },
    {
      "cell_type": "markdown",
      "metadata": {
        "id": "dT3eQoOmhDMY"
      },
      "source": [
        "## Array math"
      ]
    },
    {
      "cell_type": "markdown",
      "metadata": {
        "id": "Wa6roxCHhDMZ"
      },
      "source": [
        "Basic mathematical functions operate elementwise on arrays, and are available both as operator overloads and as functions in the `numpy` module. Vectorizing code is the key to writing efficient numerical calculation with Python/Numpy. That means that as much as possible of a program should be formulated in terms of matrix and vector operations, like matrix-matrix multiplication."
      ]
    },
    {
      "cell_type": "markdown",
      "metadata": {
        "id": "SY3CvxQahDMZ"
      },
      "source": [
        "### Scalar-array operations"
      ]
    },
    {
      "cell_type": "markdown",
      "metadata": {
        "id": "iXA-MOqChDMZ"
      },
      "source": [
        "We can use the usual arithmetic operators to multiply, add, subtract, and divide arrays with scalar numbers."
      ]
    },
    {
      "cell_type": "code",
      "metadata": {
        "id": "Eoq-c9KEhDMa"
      },
      "source": [
        "v1 = arange(0, 5)"
      ],
      "execution_count": 168,
      "outputs": []
    },
    {
      "cell_type": "code",
      "metadata": {
        "id": "emeostSrhDMa",
        "outputId": "78adfe1a-4d57-4279-d6bf-72a07b6e1bdf",
        "colab": {
          "base_uri": "https://localhost:8080/"
        }
      },
      "source": [
        "v1 * 2"
      ],
      "execution_count": 169,
      "outputs": [
        {
          "output_type": "execute_result",
          "data": {
            "text/plain": [
              "array([0, 2, 4, 6, 8])"
            ]
          },
          "metadata": {},
          "execution_count": 169
        }
      ]
    },
    {
      "cell_type": "code",
      "metadata": {
        "id": "TNZZiGBQhDMa",
        "outputId": "51f5989b-b506-4514-97f2-fbbd1074e632",
        "colab": {
          "base_uri": "https://localhost:8080/"
        }
      },
      "source": [
        "v1 + 2"
      ],
      "execution_count": 170,
      "outputs": [
        {
          "output_type": "execute_result",
          "data": {
            "text/plain": [
              "array([2, 3, 4, 5, 6])"
            ]
          },
          "metadata": {},
          "execution_count": 170
        }
      ]
    },
    {
      "cell_type": "code",
      "metadata": {
        "id": "ogqp5D8KhDMb",
        "outputId": "eabdffbb-7754-44c4-ae60-e1f3307b127f",
        "colab": {
          "base_uri": "https://localhost:8080/"
        }
      },
      "source": [
        "A * 2"
      ],
      "execution_count": 172,
      "outputs": [
        {
          "output_type": "execute_result",
          "data": {
            "text/plain": [
              "array([ 1,  4,  9, 16, 25])"
            ]
          },
          "metadata": {},
          "execution_count": 172
        }
      ]
    },
    {
      "cell_type": "code",
      "metadata": {
        "id": "JIzOHASXhDMb",
        "outputId": "5d0aa77e-c4a7-4b0a-e48b-fecd4c331f5f",
        "colab": {
          "base_uri": "https://localhost:8080/"
        }
      },
      "source": [
        "A + 2"
      ],
      "execution_count": 173,
      "outputs": [
        {
          "output_type": "execute_result",
          "data": {
            "text/plain": [
              "array([3, 4, 5, 6, 7])"
            ]
          },
          "metadata": {},
          "execution_count": 173
        }
      ]
    },
    {
      "cell_type": "code",
      "metadata": {
        "id": "ipuFgApghDMb",
        "outputId": "1f7679b2-4d1c-48a4-dd58-6ca8cf9d8c89",
        "colab": {
          "base_uri": "https://localhost:8080/"
        }
      },
      "source": [
        "A + A.T"
      ],
      "execution_count": 174,
      "outputs": [
        {
          "output_type": "execute_result",
          "data": {
            "text/plain": [
              "array([ 2,  4,  6,  8, 10])"
            ]
          },
          "metadata": {},
          "execution_count": 174
        }
      ]
    },
    {
      "cell_type": "markdown",
      "metadata": {
        "id": "9VxVP4K2hDMc"
      },
      "source": [
        "Above we have used the .T to transpose the matrix object v. We could also have used the transpose function to accomplish the same thing."
      ]
    },
    {
      "cell_type": "markdown",
      "metadata": {
        "id": "r5WxxiUuhDMc"
      },
      "source": [
        "### Element-wise array-array operations"
      ]
    },
    {
      "cell_type": "markdown",
      "metadata": {
        "id": "MU-LRwGthDMc"
      },
      "source": [
        "When we add, subtract, multiply and divide arrays with each other, the default behaviour is **element-wise** operations:"
      ]
    },
    {
      "cell_type": "code",
      "metadata": {
        "id": "nTS-ZICxhDMd",
        "outputId": "a5c586ca-08b9-4e19-edb6-a501e43a71ed",
        "colab": {
          "base_uri": "https://localhost:8080/"
        }
      },
      "source": [
        "A * A # element-wise multiplication"
      ],
      "execution_count": 70,
      "outputs": [
        {
          "output_type": "execute_result",
          "data": {
            "text/plain": [
              "array([[   0,    1,    4,    9,   16],\n",
              "       [ 100,  121,  144,  169,  196],\n",
              "       [ 400,  441,  484,  529,  576],\n",
              "       [ 900,  961, 1024, 1089, 1156],\n",
              "       [1600, 1681, 1764, 1849, 1936]])"
            ]
          },
          "metadata": {},
          "execution_count": 70
        }
      ]
    },
    {
      "cell_type": "code",
      "metadata": {
        "id": "1zxC-nKXhDMd",
        "outputId": "c9e35457-5ccc-46b0-bf93-dfd6ec86ad42",
        "colab": {
          "base_uri": "https://localhost:8080/"
        }
      },
      "source": [
        "v1 * v1"
      ],
      "execution_count": 71,
      "outputs": [
        {
          "output_type": "execute_result",
          "data": {
            "text/plain": [
              "array([ 0,  1,  4,  9, 16])"
            ]
          },
          "metadata": {},
          "execution_count": 71
        }
      ]
    },
    {
      "cell_type": "markdown",
      "metadata": {
        "id": "SIBZhELnhDMd"
      },
      "source": [
        "If we multiply arrays with compatible shapes, we get an element-wise multiplication of each row:"
      ]
    },
    {
      "cell_type": "code",
      "metadata": {
        "id": "6vjw-bMKhDMe",
        "outputId": "2dbc8619-5dbe-416e-b8e2-338d9c692cc6",
        "colab": {
          "base_uri": "https://localhost:8080/"
        }
      },
      "source": [
        "A.shape, v1.shape"
      ],
      "execution_count": 72,
      "outputs": [
        {
          "output_type": "execute_result",
          "data": {
            "text/plain": [
              "((5, 5), (5,))"
            ]
          },
          "metadata": {},
          "execution_count": 72
        }
      ]
    },
    {
      "cell_type": "code",
      "metadata": {
        "id": "BVvnK9ifhDMe",
        "outputId": "649611cf-867e-4ab3-f987-4a0e577ceb7c",
        "colab": {
          "base_uri": "https://localhost:8080/"
        }
      },
      "source": [
        "A * v1"
      ],
      "execution_count": 73,
      "outputs": [
        {
          "output_type": "execute_result",
          "data": {
            "text/plain": [
              "array([[  0,   1,   4,   9,  16],\n",
              "       [  0,  11,  24,  39,  56],\n",
              "       [  0,  21,  44,  69,  96],\n",
              "       [  0,  31,  64,  99, 136],\n",
              "       [  0,  41,  84, 129, 176]])"
            ]
          },
          "metadata": {},
          "execution_count": 73
        }
      ]
    },
    {
      "cell_type": "markdown",
      "metadata": {
        "id": "mZCNPELthDMe"
      },
      "source": [
        "Numpy provides many useful functions for performing computations on arrays; one of the most useful is `sum`"
      ]
    },
    {
      "cell_type": "code",
      "metadata": {
        "id": "M6BX17O1hDMf",
        "outputId": "51557260-5d92-4010-d81b-80096bcb7045",
        "colab": {
          "base_uri": "https://localhost:8080/"
        }
      },
      "source": [
        "print(A)\n",
        "print('Sum of all elements:', sum(A))\n",
        "print('Sum of each column: ', sum(A, axis=0))\n",
        "print('Sum of each row:    ', sum(A, axis=1))"
      ],
      "execution_count": 74,
      "outputs": [
        {
          "output_type": "stream",
          "name": "stdout",
          "text": [
            "[[ 0  1  2  3  4]\n",
            " [10 11 12 13 14]\n",
            " [20 21 22 23 24]\n",
            " [30 31 32 33 34]\n",
            " [40 41 42 43 44]]\n",
            "Sum of all elements: 550\n",
            "Sum of each column:  [100 105 110 115 120]\n",
            "Sum of each row:     [ 10  60 110 160 210]\n"
          ]
        }
      ]
    },
    {
      "cell_type": "markdown",
      "metadata": {
        "id": "titFKJWdhDMf"
      },
      "source": [
        "### Broadcasting\n",
        "Broadcasting is a powerful mechanism that allows numpy to work with arrays of different shapes when performing arithmetic operations. Frequently we have a smaller array and a larger array, and we want to use the smaller array multiple times to perform some operation on the larger array."
      ]
    },
    {
      "cell_type": "code",
      "metadata": {
        "id": "mTQG3e6UhDMg",
        "outputId": "fb707a8e-243f-4bc9-9998-6a8327b7ea45",
        "colab": {
          "base_uri": "https://localhost:8080/"
        }
      },
      "source": [
        "x = array([[1,2,3], [4,5,6], [7,8,9], [10, 11, 12]])\n",
        "v = array([1, 0, 1])\n",
        "print(x)"
      ],
      "execution_count": 175,
      "outputs": [
        {
          "output_type": "stream",
          "name": "stdout",
          "text": [
            "[[ 1  2  3]\n",
            " [ 4  5  6]\n",
            " [ 7  8  9]\n",
            " [10 11 12]]\n"
          ]
        }
      ]
    },
    {
      "cell_type": "code",
      "metadata": {
        "id": "YMKd1ouvhDMg",
        "outputId": "54428bc3-f578-424d-efaf-2aa404bf8c1c",
        "colab": {
          "base_uri": "https://localhost:8080/"
        }
      },
      "source": [
        "print(x + v) #somma v ad ogni riga di x"
      ],
      "execution_count": 176,
      "outputs": [
        {
          "output_type": "stream",
          "name": "stdout",
          "text": [
            "[[ 2  2  4]\n",
            " [ 5  5  7]\n",
            " [ 8  8 10]\n",
            " [11 11 13]]\n"
          ]
        }
      ]
    },
    {
      "cell_type": "markdown",
      "metadata": {
        "id": "ZPOK69AmhDMh"
      },
      "source": [
        "The `x + v` works even though `x` has shape `(4, 3)` and `v` has shape `(3,)` due to broadcasting; this line works as if `v` actually had shape `(4, 3)`, where each row was a copy of `v`, and the sum was performed elementwise. It is similar for other mathematical operations as well."
      ]
    },
    {
      "cell_type": "code",
      "metadata": {
        "id": "4089_7RthDMh",
        "outputId": "044160c3-68c8-4d3f-ac8f-6a4626ba65b4",
        "colab": {
          "base_uri": "https://localhost:8080/"
        }
      },
      "source": [
        "print(x * v) # prodotto scalare"
      ],
      "execution_count": 177,
      "outputs": [
        {
          "output_type": "stream",
          "name": "stdout",
          "text": [
            "[[ 1  0  3]\n",
            " [ 4  0  6]\n",
            " [ 7  0  9]\n",
            " [10  0 12]]\n"
          ]
        }
      ]
    },
    {
      "cell_type": "markdown",
      "metadata": {
        "id": "GYCGA415hDMh"
      },
      "source": [
        "### Linear algebra"
      ]
    },
    {
      "cell_type": "markdown",
      "metadata": {
        "id": "sZ3yMERvhDMi"
      },
      "source": [
        "Note that unlike MATLAB, `*` is elementwise multiplication, not matrix multiplication. We instead use the `dot` function to compute inner products of vectors, to multiply a vector by a matrix, and to multiply matrices. `dot` is available both as a function in the numpy module and as an instance method of array objects."
      ]
    },
    {
      "cell_type": "code",
      "metadata": {
        "id": "emxzmhLchDMj",
        "outputId": "75768e03-f47d-4ac6-eee8-dd595aab6d4b",
        "colab": {
          "base_uri": "https://localhost:8080/"
        }
      },
      "source": [
        "dot(A, A)"
      ],
      "execution_count": 78,
      "outputs": [
        {
          "output_type": "execute_result",
          "data": {
            "text/plain": [
              "array([[ 300,  310,  320,  330,  340],\n",
              "       [1300, 1360, 1420, 1480, 1540],\n",
              "       [2300, 2410, 2520, 2630, 2740],\n",
              "       [3300, 3460, 3620, 3780, 3940],\n",
              "       [4300, 4510, 4720, 4930, 5140]])"
            ]
          },
          "metadata": {},
          "execution_count": 78
        }
      ]
    },
    {
      "cell_type": "code",
      "metadata": {
        "id": "vrS_ALDUhDMj",
        "outputId": "11d04895-42d8-4f9f-8d2c-365bec5c2633",
        "colab": {
          "base_uri": "https://localhost:8080/"
        }
      },
      "source": [
        "dot(A, v1)"
      ],
      "execution_count": 79,
      "outputs": [
        {
          "output_type": "execute_result",
          "data": {
            "text/plain": [
              "array([ 30, 130, 230, 330, 430])"
            ]
          },
          "metadata": {},
          "execution_count": 79
        }
      ]
    },
    {
      "cell_type": "code",
      "metadata": {
        "id": "aqd-eq8ZhDMj",
        "outputId": "8f164caf-737d-48de-ba7c-e1e38999ee05",
        "colab": {
          "base_uri": "https://localhost:8080/"
        }
      },
      "source": [
        "A.dot(v1)"
      ],
      "execution_count": 80,
      "outputs": [
        {
          "output_type": "execute_result",
          "data": {
            "text/plain": [
              "array([ 30, 130, 230, 330, 430])"
            ]
          },
          "metadata": {},
          "execution_count": 80
        }
      ]
    },
    {
      "cell_type": "markdown",
      "metadata": {
        "id": "Tc77Lpx4hDMk"
      },
      "source": [
        "From **Python 3.5** there is new operator '@' for matrix multiplication and numpy has support for it."
      ]
    },
    {
      "cell_type": "code",
      "metadata": {
        "id": "rg_rjcZQhDMk",
        "outputId": "5b4c629a-b597-461a-cefb-1f808a7499ac",
        "colab": {
          "base_uri": "https://localhost:8080/"
        }
      },
      "source": [
        "A @ v1"
      ],
      "execution_count": 81,
      "outputs": [
        {
          "output_type": "execute_result",
          "data": {
            "text/plain": [
              "array([ 30, 130, 230, 330, 430])"
            ]
          },
          "metadata": {},
          "execution_count": 81
        }
      ]
    },
    {
      "cell_type": "code",
      "metadata": {
        "id": "zxu4jEdAhDMk",
        "outputId": "ef0aaab7-e6fe-4ccf-9a5d-06241a12f6d3",
        "colab": {
          "base_uri": "https://localhost:8080/"
        }
      },
      "source": [
        "dot(v1,v1), v1.dot(v1), v1 @ v1"
      ],
      "execution_count": 82,
      "outputs": [
        {
          "output_type": "execute_result",
          "data": {
            "text/plain": [
              "(30, 30, 30)"
            ]
          },
          "metadata": {},
          "execution_count": 82
        }
      ]
    },
    {
      "cell_type": "markdown",
      "metadata": {
        "id": "8L9XiD_KhDMl"
      },
      "source": [
        "Alternatively, we can cast the array objects to the type `matrix`. This changes the behavior of the standard arithmetic operators `+, -, *` to use matrix algebra."
      ]
    },
    {
      "cell_type": "code",
      "metadata": {
        "id": "PqJIq_pPhDMl"
      },
      "source": [
        "M = matrix(A)\n",
        "v = matrix(v1).T # make it a column vector"
      ],
      "execution_count": 83,
      "outputs": []
    },
    {
      "cell_type": "code",
      "metadata": {
        "id": "wr3mbfP7wu_T",
        "outputId": "ced3b342-e22b-44b6-8840-e9ad207aae45",
        "colab": {
          "base_uri": "https://localhost:8080/"
        }
      },
      "source": [
        "M"
      ],
      "execution_count": 84,
      "outputs": [
        {
          "output_type": "execute_result",
          "data": {
            "text/plain": [
              "matrix([[ 0,  1,  2,  3,  4],\n",
              "        [10, 11, 12, 13, 14],\n",
              "        [20, 21, 22, 23, 24],\n",
              "        [30, 31, 32, 33, 34],\n",
              "        [40, 41, 42, 43, 44]])"
            ]
          },
          "metadata": {},
          "execution_count": 84
        }
      ]
    },
    {
      "cell_type": "code",
      "metadata": {
        "id": "0TY8BkSmhDMm",
        "outputId": "e2f1cd79-364e-48a5-a74e-409f5fad5fb3",
        "colab": {
          "base_uri": "https://localhost:8080/"
        }
      },
      "source": [
        "v"
      ],
      "execution_count": 85,
      "outputs": [
        {
          "output_type": "execute_result",
          "data": {
            "text/plain": [
              "matrix([[0],\n",
              "        [1],\n",
              "        [2],\n",
              "        [3],\n",
              "        [4]])"
            ]
          },
          "metadata": {},
          "execution_count": 85
        }
      ]
    },
    {
      "cell_type": "code",
      "metadata": {
        "id": "nfMxjEjFhDMm",
        "outputId": "1b6458e8-4fd6-473d-bcfd-eee195f8aa9c",
        "colab": {
          "base_uri": "https://localhost:8080/"
        }
      },
      "source": [
        "M * M"
      ],
      "execution_count": 86,
      "outputs": [
        {
          "output_type": "execute_result",
          "data": {
            "text/plain": [
              "matrix([[ 300,  310,  320,  330,  340],\n",
              "        [1300, 1360, 1420, 1480, 1540],\n",
              "        [2300, 2410, 2520, 2630, 2740],\n",
              "        [3300, 3460, 3620, 3780, 3940],\n",
              "        [4300, 4510, 4720, 4930, 5140]])"
            ]
          },
          "metadata": {},
          "execution_count": 86
        }
      ]
    },
    {
      "cell_type": "code",
      "metadata": {
        "id": "pRCdk5-8hDMn",
        "outputId": "e21ead16-d1eb-44f5-9f8e-508524315791",
        "colab": {
          "base_uri": "https://localhost:8080/"
        }
      },
      "source": [
        "M * v"
      ],
      "execution_count": 87,
      "outputs": [
        {
          "output_type": "execute_result",
          "data": {
            "text/plain": [
              "matrix([[ 30],\n",
              "        [130],\n",
              "        [230],\n",
              "        [330],\n",
              "        [430]])"
            ]
          },
          "metadata": {},
          "execution_count": 87
        }
      ]
    },
    {
      "cell_type": "code",
      "metadata": {
        "id": "mTqOIEEVhDMn",
        "outputId": "489ef795-426b-42a0-b71a-f1bf461fa6f9",
        "colab": {
          "base_uri": "https://localhost:8080/"
        }
      },
      "source": [
        "# inner product\n",
        "v.T * v"
      ],
      "execution_count": 88,
      "outputs": [
        {
          "output_type": "execute_result",
          "data": {
            "text/plain": [
              "matrix([[30]])"
            ]
          },
          "metadata": {},
          "execution_count": 88
        }
      ]
    },
    {
      "cell_type": "code",
      "metadata": {
        "id": "7WD6sZXChDMr",
        "outputId": "00bd0b1a-752e-4318-9530-8585330b41f8",
        "colab": {
          "base_uri": "https://localhost:8080/"
        }
      },
      "source": [
        "# with matrix objects, standard matrix algebra applies\n",
        "v + M*v"
      ],
      "execution_count": 89,
      "outputs": [
        {
          "output_type": "execute_result",
          "data": {
            "text/plain": [
              "matrix([[ 30],\n",
              "        [131],\n",
              "        [232],\n",
              "        [333],\n",
              "        [434]])"
            ]
          },
          "metadata": {},
          "execution_count": 89
        }
      ]
    },
    {
      "cell_type": "markdown",
      "metadata": {
        "id": "9MlkWWLShDMs"
      },
      "source": [
        "If we try to add, subtract or multiply objects with incomplatible shapes we get an error:"
      ]
    },
    {
      "cell_type": "code",
      "metadata": {
        "id": "y7iJ989OhDMs"
      },
      "source": [
        "v = matrix([1,2,3,4,5,6]).T"
      ],
      "execution_count": 90,
      "outputs": []
    },
    {
      "cell_type": "code",
      "metadata": {
        "id": "Cp1NnWpYhDMt",
        "outputId": "c58bd0ef-fbbe-43ba-e2fa-d5c234333a82",
        "colab": {
          "base_uri": "https://localhost:8080/"
        }
      },
      "source": [
        "shape(M), shape(v)"
      ],
      "execution_count": 91,
      "outputs": [
        {
          "output_type": "execute_result",
          "data": {
            "text/plain": [
              "((5, 5), (6, 1))"
            ]
          },
          "metadata": {},
          "execution_count": 91
        }
      ]
    },
    {
      "cell_type": "code",
      "metadata": {
        "id": "ocqQpFmnhDMt",
        "outputId": "21c885fe-0da8-4fe3-ae46-4e3b131b1783",
        "colab": {
          "base_uri": "https://localhost:8080/",
          "height": 263
        }
      },
      "source": [
        "M * v"
      ],
      "execution_count": 92,
      "outputs": [
        {
          "output_type": "error",
          "ename": "ValueError",
          "evalue": "shapes (5,5) and (6,1) not aligned: 5 (dim 1) != 6 (dim 0)",
          "traceback": [
            "\u001b[0;31m---------------------------------------------------------------------------\u001b[0m",
            "\u001b[0;31mValueError\u001b[0m                                Traceback (most recent call last)",
            "\u001b[0;32m<ipython-input-92-e8f88679fe45>\u001b[0m in \u001b[0;36m<cell line: 0>\u001b[0;34m()\u001b[0m\n\u001b[0;32m----> 1\u001b[0;31m \u001b[0mM\u001b[0m \u001b[0;34m*\u001b[0m \u001b[0mv\u001b[0m\u001b[0;34m\u001b[0m\u001b[0;34m\u001b[0m\u001b[0m\n\u001b[0m",
            "\u001b[0;32m/usr/local/lib/python3.11/dist-packages/numpy/matrixlib/defmatrix.py\u001b[0m in \u001b[0;36m__mul__\u001b[0;34m(self, other)\u001b[0m\n\u001b[1;32m    217\u001b[0m         \u001b[0;32mif\u001b[0m \u001b[0misinstance\u001b[0m\u001b[0;34m(\u001b[0m\u001b[0mother\u001b[0m\u001b[0;34m,\u001b[0m \u001b[0;34m(\u001b[0m\u001b[0mN\u001b[0m\u001b[0;34m.\u001b[0m\u001b[0mndarray\u001b[0m\u001b[0;34m,\u001b[0m \u001b[0mlist\u001b[0m\u001b[0;34m,\u001b[0m \u001b[0mtuple\u001b[0m\u001b[0;34m)\u001b[0m\u001b[0;34m)\u001b[0m \u001b[0;34m:\u001b[0m\u001b[0;34m\u001b[0m\u001b[0;34m\u001b[0m\u001b[0m\n\u001b[1;32m    218\u001b[0m             \u001b[0;31m# This promotes 1-D vectors to row vectors\u001b[0m\u001b[0;34m\u001b[0m\u001b[0;34m\u001b[0m\u001b[0m\n\u001b[0;32m--> 219\u001b[0;31m             \u001b[0;32mreturn\u001b[0m \u001b[0mN\u001b[0m\u001b[0;34m.\u001b[0m\u001b[0mdot\u001b[0m\u001b[0;34m(\u001b[0m\u001b[0mself\u001b[0m\u001b[0;34m,\u001b[0m \u001b[0masmatrix\u001b[0m\u001b[0;34m(\u001b[0m\u001b[0mother\u001b[0m\u001b[0;34m)\u001b[0m\u001b[0;34m)\u001b[0m\u001b[0;34m\u001b[0m\u001b[0;34m\u001b[0m\u001b[0m\n\u001b[0m\u001b[1;32m    220\u001b[0m         \u001b[0;32mif\u001b[0m \u001b[0misscalar\u001b[0m\u001b[0;34m(\u001b[0m\u001b[0mother\u001b[0m\u001b[0;34m)\u001b[0m \u001b[0;32mor\u001b[0m \u001b[0;32mnot\u001b[0m \u001b[0mhasattr\u001b[0m\u001b[0;34m(\u001b[0m\u001b[0mother\u001b[0m\u001b[0;34m,\u001b[0m \u001b[0;34m'__rmul__'\u001b[0m\u001b[0;34m)\u001b[0m \u001b[0;34m:\u001b[0m\u001b[0;34m\u001b[0m\u001b[0;34m\u001b[0m\u001b[0m\n\u001b[1;32m    221\u001b[0m             \u001b[0;32mreturn\u001b[0m \u001b[0mN\u001b[0m\u001b[0;34m.\u001b[0m\u001b[0mdot\u001b[0m\u001b[0;34m(\u001b[0m\u001b[0mself\u001b[0m\u001b[0;34m,\u001b[0m \u001b[0mother\u001b[0m\u001b[0;34m)\u001b[0m\u001b[0;34m\u001b[0m\u001b[0;34m\u001b[0m\u001b[0m\n",
            "\u001b[0;31mValueError\u001b[0m: shapes (5,5) and (6,1) not aligned: 5 (dim 1) != 6 (dim 0)"
          ]
        }
      ]
    },
    {
      "cell_type": "markdown",
      "metadata": {
        "id": "nWxcZdO5hDMu"
      },
      "source": [
        "See also the related functions: `inner`, `outer`, `cross`, `kron`, `tensordot`. Try for example `help(kron)`."
      ]
    },
    {
      "cell_type": "markdown",
      "metadata": {
        "id": "X2Ykx1TBhDMu"
      },
      "source": [
        "### Matrix computations"
      ]
    },
    {
      "cell_type": "code",
      "metadata": {
        "id": "_OcniPVJhDMv"
      },
      "source": [
        "M = array([[1, 2], [3, 4]])"
      ],
      "execution_count": null,
      "outputs": []
    },
    {
      "cell_type": "markdown",
      "metadata": {
        "id": "SkvKnk7dhDMv"
      },
      "source": [
        "#### Inverse"
      ]
    },
    {
      "cell_type": "code",
      "metadata": {
        "id": "O0teHYPMhDMv"
      },
      "source": [
        "inv(M) # equivalent to M.I when M is matrix"
      ],
      "execution_count": null,
      "outputs": []
    },
    {
      "cell_type": "code",
      "metadata": {
        "id": "ohDnaK7ZhDMw"
      },
      "source": [
        "dot(inv(M), M)"
      ],
      "execution_count": null,
      "outputs": []
    },
    {
      "cell_type": "markdown",
      "metadata": {
        "id": "cjMihAtMhDMw"
      },
      "source": [
        "#### Determinant"
      ]
    },
    {
      "cell_type": "code",
      "metadata": {
        "id": "PdY8bO8nhDMx"
      },
      "source": [
        "det(M)"
      ],
      "execution_count": null,
      "outputs": []
    },
    {
      "cell_type": "code",
      "metadata": {
        "id": "97vc7a6ZhDMy"
      },
      "source": [
        "det(inv(M))"
      ],
      "execution_count": null,
      "outputs": []
    },
    {
      "cell_type": "markdown",
      "metadata": {
        "id": "LV-PtHW4hDMy"
      },
      "source": [
        "### Data processing"
      ]
    },
    {
      "cell_type": "markdown",
      "metadata": {
        "id": "UEFqWaBNhDMy"
      },
      "source": [
        "Often it is useful to store datasets in Numpy arrays. Numpy provides a number of functions to calculate statistics of datasets in arrays."
      ]
    },
    {
      "cell_type": "code",
      "metadata": {
        "id": "P_8U3YX1hDMz"
      },
      "source": [
        "d = arange(1, 11)\n",
        "d"
      ],
      "execution_count": null,
      "outputs": []
    },
    {
      "cell_type": "markdown",
      "metadata": {
        "id": "OoApMbRuhDMz"
      },
      "source": [
        "#### mean"
      ]
    },
    {
      "cell_type": "code",
      "metadata": {
        "id": "1JFK3hwFhDMz"
      },
      "source": [
        "d.mean(), mean(d)"
      ],
      "execution_count": null,
      "outputs": []
    },
    {
      "cell_type": "markdown",
      "metadata": {
        "id": "pyrDx8M5hDM0"
      },
      "source": [
        "#### standard deviations and variance"
      ]
    },
    {
      "cell_type": "code",
      "metadata": {
        "id": "Cuo7fVe1hDM0"
      },
      "source": [
        "d.std(), d.var(), std(d), var(d)"
      ],
      "execution_count": null,
      "outputs": []
    },
    {
      "cell_type": "markdown",
      "metadata": {
        "id": "Upuej6xXhDM0"
      },
      "source": [
        "#### min and max"
      ]
    },
    {
      "cell_type": "code",
      "metadata": {
        "id": "MG5BMJ6fhDM0"
      },
      "source": [
        "d.min(), min(d)"
      ],
      "execution_count": null,
      "outputs": []
    },
    {
      "cell_type": "code",
      "metadata": {
        "id": "IG-1R9GthDM1"
      },
      "source": [
        "d.max(), max(d)"
      ],
      "execution_count": null,
      "outputs": []
    },
    {
      "cell_type": "markdown",
      "metadata": {
        "id": "ZF3EfZjbhDM1"
      },
      "source": [
        "#### sum, prod, and trace"
      ]
    },
    {
      "cell_type": "code",
      "metadata": {
        "id": "Y20NvtGbhDM1"
      },
      "source": [
        "# sum up all elements\n",
        "d.sum(), sum(d)"
      ],
      "execution_count": null,
      "outputs": []
    },
    {
      "cell_type": "code",
      "metadata": {
        "id": "JauoqL8NhDM1"
      },
      "source": [
        "# product of all elements\n",
        "d.prod(), prod(d)"
      ],
      "execution_count": null,
      "outputs": []
    },
    {
      "cell_type": "code",
      "metadata": {
        "id": "KlrQjX-5hDM1"
      },
      "source": [
        "# cummulative sum\n",
        "d.cumsum(), cumsum(d)"
      ],
      "execution_count": null,
      "outputs": []
    },
    {
      "cell_type": "code",
      "metadata": {
        "id": "vcddIN9zhDM2"
      },
      "source": [
        "# cummulative product\n",
        "d. cumprod(), cumprod(d)"
      ],
      "execution_count": null,
      "outputs": []
    },
    {
      "cell_type": "code",
      "metadata": {
        "id": "CqRzGl2OhDM2"
      },
      "source": [
        "A"
      ],
      "execution_count": null,
      "outputs": []
    },
    {
      "cell_type": "code",
      "metadata": {
        "id": "z2NGa7d7hDM2"
      },
      "source": [
        "# same as: diag(A).sum()\n",
        "trace(A)"
      ],
      "execution_count": null,
      "outputs": []
    },
    {
      "cell_type": "markdown",
      "metadata": {
        "id": "WOkUclEuhDM2"
      },
      "source": [
        "### Calculations with higher-dimensional data"
      ]
    },
    {
      "cell_type": "markdown",
      "metadata": {
        "id": "3n8FEzfShDM3"
      },
      "source": [
        "When functions such as `min`, `max`, etc. are applied to a multidimensional arrays, it is sometimes useful to apply the calculation to the entire array, and sometimes only on a row or column basis. Using the `axis` argument we can specify how these functions should behave:"
      ]
    },
    {
      "cell_type": "code",
      "metadata": {
        "id": "r79OQOTIhDM3",
        "outputId": "a184bafc-44ee-49ed-db4c-55f10a2b13ea",
        "colab": {
          "base_uri": "https://localhost:8080/"
        }
      },
      "source": [
        "M = rand(3,4)\n",
        "M"
      ],
      "execution_count": 178,
      "outputs": [
        {
          "output_type": "execute_result",
          "data": {
            "text/plain": [
              "array([[0.45175009, 0.22981096, 0.81164495, 0.73232598],\n",
              "       [0.41449523, 0.4424694 , 0.64011173, 0.64168313],\n",
              "       [0.96437659, 0.43831936, 0.91800988, 0.51213294]])"
            ]
          },
          "metadata": {},
          "execution_count": 178
        }
      ]
    },
    {
      "cell_type": "code",
      "metadata": {
        "id": "r8OTjLBFhDM3",
        "outputId": "4476d82a-1295-4f0e-a0bb-6f0e82992168",
        "colab": {
          "base_uri": "https://localhost:8080/"
        }
      },
      "source": [
        "# global max\n",
        "M.max()"
      ],
      "execution_count": 179,
      "outputs": [
        {
          "output_type": "execute_result",
          "data": {
            "text/plain": [
              "0.9643765928339879"
            ]
          },
          "metadata": {},
          "execution_count": 179
        }
      ]
    },
    {
      "cell_type": "code",
      "metadata": {
        "id": "PFyvIzEqhDM3"
      },
      "source": [
        "# max in each column\n",
        "M.max(axis=0)"
      ],
      "execution_count": null,
      "outputs": []
    },
    {
      "cell_type": "code",
      "metadata": {
        "id": "14mrxYC6hDM3"
      },
      "source": [
        "# max in each row\n",
        "M.max(axis=1)"
      ],
      "execution_count": null,
      "outputs": []
    },
    {
      "cell_type": "markdown",
      "metadata": {
        "id": "eLQVLoqthDM4"
      },
      "source": [
        "Many other functions and methods in the `array` and `matrix` classes accept the same (optional) `axis` keyword argument."
      ]
    },
    {
      "cell_type": "markdown",
      "metadata": {
        "id": "yJjOATYehDM4"
      },
      "source": [
        "## Reshaping, resizing and stacking arrays"
      ]
    },
    {
      "cell_type": "markdown",
      "metadata": {
        "id": "XFCXTS0yhDM4"
      },
      "source": [
        "The shape of an Numpy array can be modified without copying the underlaying data, which makes it a fast operation even for large arrays."
      ]
    },
    {
      "cell_type": "code",
      "metadata": {
        "id": "G0FRpsEshDM5",
        "outputId": "70d3e32b-4325-4e4f-9b18-d1e0181900f1",
        "colab": {
          "base_uri": "https://localhost:8080/"
        }
      },
      "source": [
        "M"
      ],
      "execution_count": 180,
      "outputs": [
        {
          "output_type": "execute_result",
          "data": {
            "text/plain": [
              "array([[0.45175009, 0.22981096, 0.81164495, 0.73232598],\n",
              "       [0.41449523, 0.4424694 , 0.64011173, 0.64168313],\n",
              "       [0.96437659, 0.43831936, 0.91800988, 0.51213294]])"
            ]
          },
          "metadata": {},
          "execution_count": 180
        }
      ]
    },
    {
      "cell_type": "code",
      "metadata": {
        "id": "2Y7BsUDJhDM5",
        "outputId": "8a600938-83d4-4131-9f78-23fd80eefc11",
        "colab": {
          "base_uri": "https://localhost:8080/"
        }
      },
      "source": [
        "M.shape"
      ],
      "execution_count": 181,
      "outputs": [
        {
          "output_type": "execute_result",
          "data": {
            "text/plain": [
              "(3, 4)"
            ]
          },
          "metadata": {},
          "execution_count": 181
        }
      ]
    },
    {
      "cell_type": "code",
      "metadata": {
        "id": "PkHWzlE2hDM5",
        "outputId": "93762ab0-96bd-45fc-b81e-c4ed933387b1",
        "colab": {
          "base_uri": "https://localhost:8080/"
        }
      },
      "source": [
        "N = M.reshape((6, 2)) # reshape crea una nuova view dello stesso oggetto\n",
        "#perchè creare un nuovo oggetto è molto più costoso\n",
        "#quindi N e M sono lo stesso oggetto con view diverse\n",
        "# Oss. M=N non crea una copia, entrambi puntano lo stesso spazio di memoria\n",
        "N"
      ],
      "execution_count": 182,
      "outputs": [
        {
          "output_type": "execute_result",
          "data": {
            "text/plain": [
              "array([[0.45175009, 0.22981096],\n",
              "       [0.81164495, 0.73232598],\n",
              "       [0.41449523, 0.4424694 ],\n",
              "       [0.64011173, 0.64168313],\n",
              "       [0.96437659, 0.43831936],\n",
              "       [0.91800988, 0.51213294]])"
            ]
          },
          "metadata": {},
          "execution_count": 182
        }
      ]
    },
    {
      "cell_type": "code",
      "source": [
        "N[0,0]=0\n",
        "print(N)\n",
        "print(M)"
      ],
      "metadata": {
        "id": "4Cg-SUrfh3JY",
        "outputId": "97c14638-e05e-45b5-e345-9b9d40c20044",
        "colab": {
          "base_uri": "https://localhost:8080/"
        }
      },
      "execution_count": 184,
      "outputs": [
        {
          "output_type": "stream",
          "name": "stdout",
          "text": [
            "[[0.         0.22981096]\n",
            " [0.81164495 0.73232598]\n",
            " [0.41449523 0.4424694 ]\n",
            " [0.64011173 0.64168313]\n",
            " [0.96437659 0.43831936]\n",
            " [0.91800988 0.51213294]]\n",
            "[[0.         0.22981096 0.81164495 0.73232598]\n",
            " [0.41449523 0.4424694  0.64011173 0.64168313]\n",
            " [0.96437659 0.43831936 0.91800988 0.51213294]]\n"
          ]
        }
      ]
    },
    {
      "cell_type": "code",
      "metadata": {
        "id": "MyDHgKRQhDM5"
      },
      "source": [
        "O = M.reshape((1, 12))\n",
        "O"
      ],
      "execution_count": null,
      "outputs": []
    },
    {
      "cell_type": "code",
      "metadata": {
        "id": "1_4IrZ6AhDM6"
      },
      "source": [
        "N[0:2,:] = 1 # modify the array\n",
        "N"
      ],
      "execution_count": null,
      "outputs": []
    },
    {
      "cell_type": "code",
      "metadata": {
        "id": "0b26rFc8hDM6"
      },
      "source": [
        "M # and the original variable is also changed. B is only a different view of the same data"
      ],
      "execution_count": null,
      "outputs": []
    },
    {
      "cell_type": "code",
      "metadata": {
        "id": "flevmkQhhDM6"
      },
      "source": [
        "O"
      ],
      "execution_count": null,
      "outputs": []
    },
    {
      "cell_type": "markdown",
      "metadata": {
        "id": "P1lydrGthDM7"
      },
      "source": [
        "We can also use the function `flatten` to make a higher-dimensional array into a vector. But this function create a copy of the data."
      ]
    },
    {
      "cell_type": "code",
      "metadata": {
        "id": "OG00xr0uhDM8",
        "outputId": "3c7f5d07-e1a6-48a1-bf0c-2e0c3509e382",
        "colab": {
          "base_uri": "https://localhost:8080/"
        }
      },
      "source": [
        "F = M.flatten() # fa una copie di M, srotolandolo su una singola riga\n",
        "F"
      ],
      "execution_count": 185,
      "outputs": [
        {
          "output_type": "execute_result",
          "data": {
            "text/plain": [
              "array([0.        , 0.22981096, 0.81164495, 0.73232598, 0.41449523,\n",
              "       0.4424694 , 0.64011173, 0.64168313, 0.96437659, 0.43831936,\n",
              "       0.91800988, 0.51213294])"
            ]
          },
          "metadata": {},
          "execution_count": 185
        }
      ]
    },
    {
      "cell_type": "code",
      "metadata": {
        "id": "TZKTQHHjhDM9"
      },
      "source": [
        "F[0:5] = 0\n",
        "F"
      ],
      "execution_count": null,
      "outputs": []
    },
    {
      "cell_type": "code",
      "metadata": {
        "id": "Aulo2tjuhDM9"
      },
      "source": [
        "M # now M has not changed, because F's data is a copy of M's, not refering to the same data"
      ],
      "execution_count": null,
      "outputs": []
    },
    {
      "cell_type": "markdown",
      "metadata": {
        "id": "7v9KyhcfhDM9"
      },
      "source": [
        "## Stacking and repeating arrays"
      ]
    },
    {
      "cell_type": "markdown",
      "metadata": {
        "id": "sgCTgVI7hDM-"
      },
      "source": [
        "Using function `repeat`, `tile`, `vstack`, `hstack`, and `concatenate` we can create larger vectors and matrices from smaller ones:"
      ]
    },
    {
      "cell_type": "markdown",
      "metadata": {
        "id": "9Xi3iCI8hDM-"
      },
      "source": [
        "### tile and repeat"
      ]
    },
    {
      "cell_type": "code",
      "metadata": {
        "id": "wMrvjkTXhDM_"
      },
      "source": [
        "a = array([[1, 2], [3, 4]])\n",
        "a"
      ],
      "execution_count": null,
      "outputs": []
    },
    {
      "cell_type": "code",
      "metadata": {
        "id": "lLB-dM0uhDM_"
      },
      "source": [
        "# repeat each element 3 times\n",
        "repeat(a, 3)"
      ],
      "execution_count": null,
      "outputs": []
    },
    {
      "cell_type": "code",
      "metadata": {
        "id": "L9JBdrsKhDNA"
      },
      "source": [
        "# tile the matrix 3 times\n",
        "tile(a, 3)"
      ],
      "execution_count": null,
      "outputs": []
    },
    {
      "cell_type": "markdown",
      "metadata": {
        "id": "QGacmNB9hDNA"
      },
      "source": [
        "### concatenate"
      ]
    },
    {
      "cell_type": "code",
      "metadata": {
        "id": "9-ueZ8vehDNB"
      },
      "source": [
        "b = array([[5, 6]])\n",
        "b"
      ],
      "execution_count": null,
      "outputs": []
    },
    {
      "cell_type": "code",
      "metadata": {
        "id": "A0GWXPX-hDNB"
      },
      "source": [
        "concatenate((a, b), axis=0)"
      ],
      "execution_count": null,
      "outputs": []
    },
    {
      "cell_type": "code",
      "metadata": {
        "id": "dk-6TdgQhDNB"
      },
      "source": [
        "concatenate((a, b.T), axis=1)"
      ],
      "execution_count": null,
      "outputs": []
    },
    {
      "cell_type": "markdown",
      "metadata": {
        "id": "CciRFVvMhDNB"
      },
      "source": [
        "### hstack and vstack"
      ]
    },
    {
      "cell_type": "code",
      "metadata": {
        "id": "zxo4vk3RhDNB"
      },
      "source": [
        "vstack((a,b))"
      ],
      "execution_count": null,
      "outputs": []
    },
    {
      "cell_type": "code",
      "metadata": {
        "id": "CBIZJk6DhDND"
      },
      "source": [
        "hstack((a,b.T))"
      ],
      "execution_count": null,
      "outputs": []
    },
    {
      "cell_type": "markdown",
      "metadata": {
        "id": "OUVtzQcVhDND"
      },
      "source": [
        "## Linear equations"
      ]
    },
    {
      "cell_type": "markdown",
      "metadata": {
        "id": "jJeYNUaDhDND"
      },
      "source": [
        "System of linear equations like:\n",
        "$$\\begin{array}{rcl}x + 2y & = & 5\\\\3x + 4y & = & 7\\end{array}$$\n",
        "\n",
        "or\n",
        "\n",
        "$$\\begin{pmatrix}1 & 2\\\\3 & 4\\end{pmatrix}\\cdot\\begin{pmatrix}x \\\\ y\\end{pmatrix} = \\begin{pmatrix}5 \\\\ 7\\end{pmatrix}$$\n",
        "\n",
        "could be written in matrix form as $\\mathbf {Ax} = \\mathbf b$ and could be solved using numpy `solve`:"
      ]
    },
    {
      "cell_type": "code",
      "metadata": {
        "id": "qtQ0--lkhDND"
      },
      "source": [
        "A = array([[1, 2], [3, 4]])\n",
        "b = array([5,7])\n",
        "solve(A,b)"
      ],
      "execution_count": null,
      "outputs": []
    },
    {
      "cell_type": "markdown",
      "metadata": {
        "id": "adgM10V_hDNE"
      },
      "source": [
        "or"
      ]
    },
    {
      "cell_type": "code",
      "metadata": {
        "id": "oElp5BcdhDNE"
      },
      "source": [
        "dot(inv(A),b)"
      ],
      "execution_count": null,
      "outputs": []
    },
    {
      "cell_type": "markdown",
      "metadata": {
        "id": "4NVL14AzhDNE"
      },
      "source": [
        "## Copy and \"deep copy\""
      ]
    },
    {
      "cell_type": "markdown",
      "metadata": {
        "id": "2bbfQkplhDNE"
      },
      "source": [
        "To achieve high performance, assignments in Python usually do not copy the underlaying objects. This is important for example when objects are passed between functions, to avoid an excessive amount of memory copying when it is not necessary (technical term: pass by reference)."
      ]
    },
    {
      "cell_type": "code",
      "metadata": {
        "id": "iFzfr2RChDNE"
      },
      "source": [
        "# now B is referring to the same array data as A\n",
        "B = A\n",
        "A"
      ],
      "execution_count": null,
      "outputs": []
    },
    {
      "cell_type": "code",
      "metadata": {
        "id": "LfA7qP3ohDNF"
      },
      "source": [
        "# changing B affects A\n",
        "B[0,0] = 10\n",
        "B"
      ],
      "execution_count": null,
      "outputs": []
    },
    {
      "cell_type": "code",
      "metadata": {
        "id": "W-PuoPvbhDNF"
      },
      "source": [
        "A"
      ],
      "execution_count": null,
      "outputs": []
    },
    {
      "cell_type": "markdown",
      "metadata": {
        "id": "QQR8bWQGhDNF"
      },
      "source": [
        "If we want to avoid this behavior, so that when we get a new completely independent object `B` copied from `A`, then we need to do a so-called \"deep copy\" using the function `copy`:"
      ]
    },
    {
      "cell_type": "code",
      "metadata": {
        "id": "7_k64_fzhDNF"
      },
      "source": [
        "B = copy(A)"
      ],
      "execution_count": null,
      "outputs": []
    },
    {
      "cell_type": "code",
      "metadata": {
        "id": "6CMS8ePfhDNG"
      },
      "source": [
        "# now, if we modify B, A is not affected\n",
        "B[0,0] = -5\n",
        "B"
      ],
      "execution_count": null,
      "outputs": []
    },
    {
      "cell_type": "code",
      "metadata": {
        "id": "QhhUcdQqhDNG"
      },
      "source": [
        "A"
      ],
      "execution_count": null,
      "outputs": []
    },
    {
      "cell_type": "markdown",
      "metadata": {
        "id": "K8-4mi5hhDNG"
      },
      "source": [
        "## Iterating over array elements"
      ]
    },
    {
      "cell_type": "markdown",
      "metadata": {
        "id": "QZbBs6RhhDNG"
      },
      "source": [
        "Generally, we want to avoid iterating over the elements of arrays whenever we can (at all costs). The reason is that in a interpreted language like Python (or MATLAB), iterations are really slow compared to vectorized operations.\n",
        "\n",
        "However, sometimes iterations are unavoidable. For such cases, the Python `for` loop is the most convenient way to iterate over an array:"
      ]
    },
    {
      "cell_type": "code",
      "metadata": {
        "id": "PqhwWsuShDNG"
      },
      "source": [
        "v = array([1,2,3,4])\n",
        "\n",
        "for element in v:\n",
        "    print(element)"
      ],
      "execution_count": null,
      "outputs": []
    },
    {
      "cell_type": "code",
      "metadata": {
        "id": "4rdqrElshDNH"
      },
      "source": [
        "M = array([[1,2], [3,4]])\n",
        "\n",
        "for row in M:\n",
        "    print('Row', row)\n",
        "\n",
        "    for element in row:\n",
        "        print('Element', element)"
      ],
      "execution_count": null,
      "outputs": []
    },
    {
      "cell_type": "markdown",
      "metadata": {
        "id": "xa_2Xe7HhDNH"
      },
      "source": [
        "When we need to iterate over each element of an array and modify its elements, it is convenient to use the `enumerate` function to obtain both the element and its index in the `for` loop:"
      ]
    },
    {
      "cell_type": "code",
      "metadata": {
        "id": "ff4GCsLNhDNI"
      },
      "source": [
        "for row_idx, row in enumerate(M):\n",
        "    print(\"row_idx\", row_idx, \"row\", row)\n",
        "\n",
        "    for col_idx, element in enumerate(row):\n",
        "        print(\"row_idx\", row_idx, \"col_idx\", col_idx, \"Element\", element)\n",
        "\n",
        "        # update the matrix M: square each element\n",
        "        M[row_idx, col_idx] = element ** 2"
      ],
      "execution_count": null,
      "outputs": []
    },
    {
      "cell_type": "code",
      "metadata": {
        "id": "QF6zo6MMhDNI"
      },
      "source": [
        "# each element in M is now squared\n",
        "M"
      ],
      "execution_count": null,
      "outputs": []
    },
    {
      "cell_type": "markdown",
      "metadata": {
        "id": "iWVN6bMxhDNJ"
      },
      "source": [
        "## Using arrays in conditions"
      ]
    },
    {
      "cell_type": "markdown",
      "metadata": {
        "id": "pgechcAYhDNJ"
      },
      "source": [
        "When using arrays in conditions,for example `if` statements and other boolean expressions, one needs to use `any` or `all`, which requires that any or all elements in the array evalutes to `True`:"
      ]
    },
    {
      "cell_type": "code",
      "metadata": {
        "id": "4_lrl1E2hDNK"
      },
      "source": [
        "M"
      ],
      "execution_count": null,
      "outputs": []
    },
    {
      "cell_type": "code",
      "metadata": {
        "id": "5o3xv8CQhDNK"
      },
      "source": [
        "if (M > 5).any():\n",
        "    print(\"at least one element in M is larger than 5\")\n",
        "else:\n",
        "    print(\"no element in M is larger than 5\")"
      ],
      "execution_count": null,
      "outputs": []
    },
    {
      "cell_type": "code",
      "metadata": {
        "id": "xP9QjioWhDNK"
      },
      "source": [
        "if (M > 5).all():\n",
        "    print(\"all elements in M are larger than 5\")\n",
        "else:\n",
        "    print(\"all elements in M are not larger than 5\")"
      ],
      "execution_count": null,
      "outputs": []
    },
    {
      "cell_type": "markdown",
      "metadata": {
        "id": "4wqH-CN8hDNL"
      },
      "source": [
        "## File I/O\n",
        "\n",
        "For all possibilities check documentation on [Input and output](https://docs.scipy.org/doc/numpy/reference/routines.io.html)."
      ]
    },
    {
      "cell_type": "markdown",
      "metadata": {
        "id": "vwZ01BN7hDNL"
      },
      "source": [
        "### Comma-separated values (CSV)\n",
        "A very common file format for data files is comma-separated values (CSV), or related formats such as TSV (tab-separated values). To read data from such files into Numpy arrays we can use the `numpy.loadtxt` function. For example we will read historical temperature data measured at Prague Clementinum. Here is how file looks like:"
      ]
    },
    {
      "cell_type": "code",
      "metadata": {
        "id": "3uCYFz2kzGR6"
      },
      "source": [
        "!wget https://raw.githubusercontent.com/serivan/mldmlab/master/Python-Introduction/Datasets/clementinum.csv"
      ],
      "execution_count": null,
      "outputs": []
    },
    {
      "cell_type": "code",
      "metadata": {
        "id": "3iQwuCXVhDNL"
      },
      "source": [
        "!head clementinum.csv"
      ],
      "execution_count": null,
      "outputs": []
    },
    {
      "cell_type": "code",
      "metadata": {
        "id": "GlPECSuahDNM"
      },
      "source": [
        "# read CSV file, skip one row with headings\n",
        "data = loadtxt('clementinum.csv', skiprows=1, delimiter=',')\n",
        "savetxt('out.csv', data, delimiter=',')"
      ],
      "execution_count": null,
      "outputs": []
    },
    {
      "cell_type": "code",
      "metadata": {
        "id": "l_FJPVpyhDNM"
      },
      "source": [
        "data.shape"
      ],
      "execution_count": null,
      "outputs": []
    },
    {
      "cell_type": "markdown",
      "metadata": {
        "id": "PTsy09KDhDNN"
      },
      "source": [
        "Let's calculate some properties from the Prague temperature dataset used above."
      ]
    },
    {
      "cell_type": "code",
      "metadata": {
        "id": "KB2ZIUjXhDNN"
      },
      "source": [
        "# Prague temperature over the last 43 years\n",
        "# the average temperature data is in column 3, max in column 4 a min in column 5\n",
        "print('The daily mean temperature has been {:.2f}°C.'.format(data[:,3].mean()))\n",
        "print('The highest daily average temperature has been {:.2f}°C.'.format(data[:,3].max()))\n",
        "print('The highest measured temperature has been {:.2f}°C.'.format(data[:,4].max()))\n",
        "print('The lowest daily average temperature has been {:.2f}°C.'.format(data[:,3].min()))\n",
        "print('The lowest measured temperature has been {:.2f}°C.'.format(data[:,5].min()))"
      ],
      "execution_count": null,
      "outputs": []
    }
  ]
}