{
  "cells": [
    {
      "cell_type": "markdown",
      "metadata": {
        "id": "maRFBeb60aAf"
      },
      "source": [
        "# Numpy Practice - Hints - Unibs 2021"
      ],
      "id": "maRFBeb60aAf"
    },
    {
      "cell_type": "markdown",
      "metadata": {
        "id": "b8X-mxqv0aAg"
      },
      "source": [
        "#### Import the numpy package under the name `np` and print version and configuration (base)\n",
        "`hint: import … as, np.__version__, np.show_config`"
      ],
      "id": "b8X-mxqv0aAg"
    },
    {
      "cell_type": "code",
      "execution_count": null,
      "metadata": {
        "id": "liHAcgDZ0aAh"
      },
      "outputs": [],
      "source": [],
      "id": "liHAcgDZ0aAh"
    },
    {
      "cell_type": "markdown",
      "metadata": {
        "id": "Tm3R48zA0aAh"
      },
      "source": [
        "## Base Practice"
      ],
      "id": "Tm3R48zA0aAh"
    },
    {
      "cell_type": "markdown",
      "metadata": {
        "id": "ClmCzt8l0aAi"
      },
      "source": [
        "#### 1. Create a null vector of size 10 but the fifth value which is 1 (base)\n",
        "`hint: array[4]`"
      ],
      "id": "ClmCzt8l0aAi"
    },
    {
      "cell_type": "code",
      "execution_count": null,
      "metadata": {
        "id": "JTKepia_0aAi"
      },
      "outputs": [],
      "source": [],
      "id": "JTKepia_0aAi"
    },
    {
      "cell_type": "markdown",
      "metadata": {
        "id": "YGegmq8G0aAi"
      },
      "source": [
        "#### 2. Create a 3x3 matrix with values ranging from 0 to 8 with zeros on the diagonal (base)\n",
        "`hint: np.arange, reshape, np.eye`"
      ],
      "id": "YGegmq8G0aAi"
    },
    {
      "cell_type": "code",
      "execution_count": null,
      "metadata": {
        "id": "g3xdWyWy0aAi"
      },
      "outputs": [],
      "source": [],
      "id": "g3xdWyWy0aAi"
    },
    {
      "cell_type": "markdown",
      "metadata": {
        "id": "o8jdReU_0aAi"
      },
      "source": [
        "#### 3. How to add a border (filled with 0's) around an 5x5 matrix of ones? (base)\n",
        "`hint: np.ones, np.pad`"
      ],
      "id": "o8jdReU_0aAi"
    },
    {
      "cell_type": "code",
      "execution_count": null,
      "metadata": {
        "id": "mCQxNnrL0aAi"
      },
      "outputs": [],
      "source": [],
      "id": "mCQxNnrL0aAi"
    },
    {
      "cell_type": "markdown",
      "metadata": {
        "id": "G1mnP9H00aAj"
      },
      "source": [
        "#### 4. Normalize a 5x5 random matrix (base)\n",
        "`hint: (x - mean) / std, np.mean, np.std`"
      ],
      "id": "G1mnP9H00aAj"
    },
    {
      "cell_type": "code",
      "execution_count": null,
      "metadata": {
        "id": "S69nBj8l0aAj"
      },
      "outputs": [],
      "source": [],
      "id": "S69nBj8l0aAj"
    },
    {
      "cell_type": "markdown",
      "metadata": {
        "id": "e-s-L5km0aAj"
      },
      "source": [
        "#### 5. Multiply a 5x3 matrix of ones by a 3x2 matrix of ones (real matrix product) (base)\n",
        "`hint: np.dot`"
      ],
      "id": "e-s-L5km0aAj"
    },
    {
      "cell_type": "code",
      "execution_count": null,
      "metadata": {
        "id": "7cAEdIU80aAj"
      },
      "outputs": [],
      "source": [],
      "id": "7cAEdIU80aAj"
    },
    {
      "cell_type": "markdown",
      "metadata": {
        "id": "cn9fz4Uq0aAj"
      },
      "source": [
        "## Intermediate Practice"
      ],
      "id": "cn9fz4Uq0aAj"
    },
    {
      "cell_type": "markdown",
      "metadata": {
        "id": "ypmp4dD-0aAj"
      },
      "source": [
        "#### 6. Create a vector of size 10 with values ranging from 0 to 1, both excluded (intermediate)\n",
        "`hint: np.linspace`"
      ],
      "id": "ypmp4dD-0aAj"
    },
    {
      "cell_type": "code",
      "execution_count": null,
      "metadata": {
        "id": "0JjX6Dyl0aAj"
      },
      "outputs": [],
      "source": [],
      "id": "0JjX6Dyl0aAj"
    },
    {
      "cell_type": "markdown",
      "metadata": {
        "id": "oDrrzvxe0aAj"
      },
      "source": [
        "#### 7. Create a random vector of size 10 with values in range (-3, 12) and sort it (intermediate)\n",
        "`hint: sort`"
      ],
      "id": "oDrrzvxe0aAj"
    },
    {
      "cell_type": "code",
      "execution_count": null,
      "metadata": {
        "id": "R2WM9cNl0aAk"
      },
      "outputs": [],
      "source": [],
      "id": "R2WM9cNl0aAk"
    },
    {
      "cell_type": "markdown",
      "metadata": {
        "id": "OEfL3VpB0aAk"
      },
      "source": [
        "#### 8. Create random vector of size 10 and replace the maximum value by its additive inverse and the minimum value (of the original array) with the median value (intermediate)\n",
        "`hint: argmax, argmin`"
      ],
      "id": "OEfL3VpB0aAk"
    },
    {
      "cell_type": "code",
      "execution_count": null,
      "metadata": {
        "id": "g04rcuFK0aAk"
      },
      "outputs": [],
      "source": [],
      "id": "g04rcuFK0aAk"
    },
    {
      "cell_type": "markdown",
      "metadata": {
        "id": "4gPzX1Z-0aAk"
      },
      "source": [
        "#### 9. Randomly replace p elements in a 2D nxn zero matrix to 1 (intermediate)\n",
        "`hint: np.put, np.random.choice`"
      ],
      "id": "4gPzX1Z-0aAk"
    },
    {
      "cell_type": "code",
      "execution_count": null,
      "metadata": {
        "id": "-UN2-Sjw0aAk"
      },
      "outputs": [],
      "source": [],
      "id": "-UN2-Sjw0aAk"
    },
    {
      "cell_type": "markdown",
      "metadata": {
        "id": "VvfFyRXE0aAk"
      },
      "source": [
        "#### 10. Subtract the mean of each row of a random 5x10 matrix (intermediate)\n",
        "`hint: mean(axis=,keepdims=)`"
      ],
      "id": "VvfFyRXE0aAk"
    },
    {
      "cell_type": "code",
      "execution_count": null,
      "metadata": {
        "id": "YpwCqxAs0aAk"
      },
      "outputs": [],
      "source": [],
      "id": "YpwCqxAs0aAk"
    }
  ],
  "metadata": {
    "kernelspec": {
      "display_name": "Python 3",
      "language": "python",
      "name": "python3"
    },
    "language_info": {
      "codemirror_mode": {
        "name": "ipython",
        "version": 3
      },
      "file_extension": ".py",
      "mimetype": "text/x-python",
      "name": "python",
      "nbconvert_exporter": "python",
      "pygments_lexer": "ipython3",
      "version": "3.6.9"
    },
    "toc-autonumbering": false,
    "colab": {
      "provenance": []
    }
  },
  "nbformat": 4,
  "nbformat_minor": 5
}