{
  "cells": [
    {
      "cell_type": "markdown",
      "metadata": {
        "id": "maRFBeb60aAf"
      },
      "source": [
        "# Numpy Practice - Hints - Unibs 2021"
      ],
      "id": "maRFBeb60aAf"
    },
    {
      "cell_type": "markdown",
      "metadata": {
        "id": "b8X-mxqv0aAg"
      },
      "source": [
        "#### Import the numpy package under the name `np` and print version and configuration (base)\n",
        "`hint: import … as, np.__version__, np.show_config`"
      ],
      "id": "b8X-mxqv0aAg"
    },
    {
      "cell_type": "code",
      "execution_count": 1,
      "metadata": {
        "colab": {
          "base_uri": "https://localhost:8080/"
        },
        "id": "liHAcgDZ0aAh",
        "outputId": "8bb9d760-ee2c-453b-ec39-76828302995f"
      },
      "outputs": [
        {
          "output_type": "stream",
          "name": "stdout",
          "text": [
            "NumPy version: 2.0.2\n",
            "\n",
            "NumPy configuration:\n",
            "Build Dependencies:\n",
            "  blas:\n",
            "    detection method: pkgconfig\n",
            "    found: true\n",
            "    include directory: /opt/_internal/cpython-3.11.8/lib/python3.11/site-packages/scipy_openblas64/include\n",
            "    lib directory: /opt/_internal/cpython-3.11.8/lib/python3.11/site-packages/scipy_openblas64/lib\n",
            "    name: scipy-openblas\n",
            "    openblas configuration: OpenBLAS 0.3.27  USE64BITINT DYNAMIC_ARCH NO_AFFINITY\n",
            "      Zen MAX_THREADS=64\n",
            "    pc file directory: /project/.openblas\n",
            "    version: 0.3.27\n",
            "  lapack:\n",
            "    detection method: pkgconfig\n",
            "    found: true\n",
            "    include directory: /opt/_internal/cpython-3.11.8/lib/python3.11/site-packages/scipy_openblas64/include\n",
            "    lib directory: /opt/_internal/cpython-3.11.8/lib/python3.11/site-packages/scipy_openblas64/lib\n",
            "    name: scipy-openblas\n",
            "    openblas configuration: OpenBLAS 0.3.27  USE64BITINT DYNAMIC_ARCH NO_AFFINITY\n",
            "      Zen MAX_THREADS=64\n",
            "    pc file directory: /project/.openblas\n",
            "    version: 0.3.27\n",
            "Compilers:\n",
            "  c:\n",
            "    commands: cc\n",
            "    linker: ld.bfd\n",
            "    name: gcc\n",
            "    version: 10.2.1\n",
            "  c++:\n",
            "    commands: c++\n",
            "    linker: ld.bfd\n",
            "    name: gcc\n",
            "    version: 10.2.1\n",
            "  cython:\n",
            "    commands: cython\n",
            "    linker: cython\n",
            "    name: cython\n",
            "    version: 3.0.11\n",
            "Machine Information:\n",
            "  build:\n",
            "    cpu: x86_64\n",
            "    endian: little\n",
            "    family: x86_64\n",
            "    system: linux\n",
            "  host:\n",
            "    cpu: x86_64\n",
            "    endian: little\n",
            "    family: x86_64\n",
            "    system: linux\n",
            "Python Information:\n",
            "  path: /tmp/build-env-zm_4loqi/bin/python\n",
            "  version: '3.11'\n",
            "SIMD Extensions:\n",
            "  baseline:\n",
            "  - SSE\n",
            "  - SSE2\n",
            "  - SSE3\n",
            "  found:\n",
            "  - SSSE3\n",
            "  - SSE41\n",
            "  - POPCNT\n",
            "  - SSE42\n",
            "  - AVX\n",
            "  - F16C\n",
            "  - FMA3\n",
            "  - AVX2\n",
            "  not found:\n",
            "  - AVX512F\n",
            "  - AVX512CD\n",
            "  - AVX512_KNL\n",
            "  - AVX512_KNM\n",
            "  - AVX512_SKX\n",
            "  - AVX512_CLX\n",
            "  - AVX512_CNL\n",
            "  - AVX512_ICL\n",
            "\n"
          ]
        }
      ],
      "source": [
        "import numpy as np\n",
        "print(f\"NumPy version: {np.__version__}\")\n",
        "\n",
        "# Print NumPy configuration\n",
        "print(\"\\nNumPy configuration:\")\n",
        "np.show_config()"
      ],
      "id": "liHAcgDZ0aAh"
    },
    {
      "cell_type": "markdown",
      "metadata": {
        "id": "Tm3R48zA0aAh"
      },
      "source": [
        "## Base Practice"
      ],
      "id": "Tm3R48zA0aAh"
    },
    {
      "cell_type": "markdown",
      "metadata": {
        "id": "ClmCzt8l0aAi"
      },
      "source": [
        "#### 1. Create a null vector of size 10 but the fifth value which is 1 (base)\n",
        "`hint: array[4]`"
      ],
      "id": "ClmCzt8l0aAi"
    },
    {
      "cell_type": "code",
      "execution_count": 2,
      "metadata": {
        "colab": {
          "base_uri": "https://localhost:8080/"
        },
        "id": "JTKepia_0aAi",
        "outputId": "8a4c7839-d858-4dea-9a86-7f90a30312e1"
      },
      "outputs": [
        {
          "output_type": "stream",
          "name": "stdout",
          "text": [
            "[0. 0. 0. 0. 1. 0. 0. 0. 0. 0.]\n"
          ]
        }
      ],
      "source": [
        "array = np.zeros(10)\n",
        "array[4] = 1\n",
        "print(array)"
      ],
      "id": "JTKepia_0aAi"
    },
    {
      "cell_type": "markdown",
      "metadata": {
        "id": "YGegmq8G0aAi"
      },
      "source": [
        "#### 2. Create a 3x3 matrix with values ranging from 0 to 8 with zeros on the diagonal (base)\n",
        "`hint: np.arange, reshape, np.eye`"
      ],
      "id": "YGegmq8G0aAi"
    },
    {
      "cell_type": "code",
      "source": [
        "matrix = np.arange(9).reshape(3, 3)\n",
        "np.fill_diagonal(matrix, 0)\n",
        "matrix"
      ],
      "metadata": {
        "id": "dIy_z65V37pW",
        "outputId": "b607de7a-b9ea-412b-cf74-11e01e9e298a",
        "colab": {
          "base_uri": "https://localhost:8080/"
        }
      },
      "id": "dIy_z65V37pW",
      "execution_count": 3,
      "outputs": [
        {
          "output_type": "execute_result",
          "data": {
            "text/plain": [
              "array([[0, 1, 2],\n",
              "       [3, 0, 5],\n",
              "       [6, 7, 0]])"
            ]
          },
          "metadata": {},
          "execution_count": 3
        }
      ]
    },
    {
      "cell_type": "markdown",
      "metadata": {
        "id": "o8jdReU_0aAi"
      },
      "source": [
        "#### 3. How to add a border (filled with 0's) around an 5x5 matrix of ones? (base)\n",
        "`hint: np.ones, np.pad`"
      ],
      "id": "o8jdReU_0aAi"
    },
    {
      "cell_type": "code",
      "execution_count": 4,
      "metadata": {
        "colab": {
          "base_uri": "https://localhost:8080/"
        },
        "id": "g3xdWyWy0aAi",
        "outputId": "552067f5-2fda-447d-85ec-a3ef736c375c"
      },
      "outputs": [
        {
          "output_type": "stream",
          "name": "stdout",
          "text": [
            "[[0. 0. 0. 0. 0. 0. 0.]\n",
            " [0. 1. 1. 1. 1. 1. 0.]\n",
            " [0. 1. 1. 1. 1. 1. 0.]\n",
            " [0. 1. 1. 1. 1. 1. 0.]\n",
            " [0. 1. 1. 1. 1. 1. 0.]\n",
            " [0. 1. 1. 1. 1. 1. 0.]\n",
            " [0. 0. 0. 0. 0. 0. 0.]]\n"
          ]
        }
      ],
      "source": [
        "matrix = np.ones((5, 5))\n",
        "matrix_with_border = np.pad(matrix, pad_width=1, mode='constant', constant_values=0)\n",
        "\n",
        "print(matrix_with_border)\n"
      ],
      "id": "g3xdWyWy0aAi"
    },
    {
      "cell_type": "markdown",
      "metadata": {
        "id": "G1mnP9H00aAj"
      },
      "source": [
        "#### 4. Normalize a 5x5 random matrix (base)\n",
        "`hint: (x - mean) / std, np.mean, np.std`"
      ],
      "id": "G1mnP9H00aAj"
    },
    {
      "cell_type": "code",
      "execution_count": 5,
      "metadata": {
        "colab": {
          "base_uri": "https://localhost:8080/"
        },
        "id": "S69nBj8l0aAj",
        "outputId": "5e6790e1-a7b0-4c19-caac-ac1acb15b508"
      },
      "outputs": [
        {
          "output_type": "stream",
          "name": "stdout",
          "text": [
            "[[-1.46647399 -1.31351664  0.72210549  0.14634741  1.70648036]\n",
            " [-0.68028757  1.32867526  1.14029257  1.64666255 -0.1049528 ]\n",
            " [-0.65373487  1.5533545  -1.16676688  0.53555298 -0.81362814]\n",
            " [-0.16797085 -1.20540149  0.11012415 -0.91243238 -0.1326536 ]\n",
            " [-1.0772638  -1.03597508  0.51454502  1.18571369  0.14120413]]\n"
          ]
        }
      ],
      "source": [
        "random_matrix = np.random.random((5, 5))\n",
        "\n",
        "x = (random_matrix - np.mean(random_matrix)) / np.std(random_matrix)\n",
        "print(x)"
      ],
      "id": "S69nBj8l0aAj"
    },
    {
      "cell_type": "markdown",
      "metadata": {
        "id": "e-s-L5km0aAj"
      },
      "source": [
        "#### 5. Multiply a 5x3 matrix of ones by a 3x2 matrix of ones (real matrix product) (base)\n",
        "`hint: np.dot`"
      ],
      "id": "e-s-L5km0aAj"
    },
    {
      "cell_type": "code",
      "execution_count": 6,
      "metadata": {
        "colab": {
          "base_uri": "https://localhost:8080/"
        },
        "id": "7cAEdIU80aAj",
        "outputId": "c2f650c0-6922-47de-ca72-9e2f6aca54dd"
      },
      "outputs": [
        {
          "output_type": "execute_result",
          "data": {
            "text/plain": [
              "array([[3., 3.],\n",
              "       [3., 3.],\n",
              "       [3., 3.],\n",
              "       [3., 3.],\n",
              "       [3., 3.]])"
            ]
          },
          "metadata": {},
          "execution_count": 6
        }
      ],
      "source": [
        "np.dot(np.ones((5, 3)), np.ones((3, 2)))"
      ],
      "id": "7cAEdIU80aAj"
    },
    {
      "cell_type": "markdown",
      "metadata": {
        "id": "cn9fz4Uq0aAj"
      },
      "source": [
        "## Intermediate Practice"
      ],
      "id": "cn9fz4Uq0aAj"
    },
    {
      "cell_type": "markdown",
      "metadata": {
        "id": "ypmp4dD-0aAj"
      },
      "source": [
        "#### 6. Create a vector of size 10 with values ranging from 0 to 1, both excluded (intermediate)\n",
        "`hint: np.linspace`"
      ],
      "id": "ypmp4dD-0aAj"
    },
    {
      "cell_type": "code",
      "execution_count": 7,
      "metadata": {
        "colab": {
          "base_uri": "https://localhost:8080/"
        },
        "id": "0JjX6Dyl0aAj",
        "outputId": "393d93bb-dc75-4aa9-a391-50e984182e0f"
      },
      "outputs": [
        {
          "output_type": "stream",
          "name": "stdout",
          "text": [
            "[0.09090909 0.18181818 0.27272727 0.36363636 0.45454545 0.54545455\n",
            " 0.63636364 0.72727273 0.81818182 0.90909091]\n"
          ]
        }
      ],
      "source": [
        "#vettore di 12 elementi, rimuove il primo e l'ultimo\n",
        "vector1 = np.linspace(0, 1, 12)[1:-1]\n",
        "print(vector1)"
      ],
      "id": "0JjX6Dyl0aAj"
    },
    {
      "cell_type": "markdown",
      "metadata": {
        "id": "oDrrzvxe0aAj"
      },
      "source": [
        "#### 7. Create a random vector of size 10 with values in range (-3, 12) and sort it (intermediate)\n",
        "`hint: sort`"
      ],
      "id": "oDrrzvxe0aAj"
    },
    {
      "cell_type": "code",
      "execution_count": 11,
      "metadata": {
        "colab": {
          "base_uri": "https://localhost:8080/"
        },
        "id": "R2WM9cNl0aAk",
        "outputId": "00a9245c-2ac5-46e8-9e26-97e0c64b6d6e"
      },
      "outputs": [
        {
          "output_type": "execute_result",
          "data": {
            "text/plain": [
              "array([-3, -2,  0,  0,  4,  5,  6,  9, 10, 11])"
            ]
          },
          "metadata": {},
          "execution_count": 11
        }
      ],
      "source": [
        "random_vector = np.random.randint(-3, 12, size=10)\n",
        "sorted_vector = np.sort(random_vector)\n",
        "sorted_vector\n"
      ],
      "id": "R2WM9cNl0aAk"
    },
    {
      "cell_type": "markdown",
      "metadata": {
        "id": "OEfL3VpB0aAk"
      },
      "source": [
        "#### 8. Create random vector of size 10 and replace the maximum value by its additive inverse and the minimum value (of the original array) with the median value (intermediate)\n",
        "`hint: argmax, argmin`"
      ],
      "id": "OEfL3VpB0aAk"
    },
    {
      "cell_type": "code",
      "execution_count": 20,
      "metadata": {
        "id": "g04rcuFK0aAk",
        "outputId": "28f0c9fe-ec5b-4f35-8657-9cfbb9686d0f",
        "colab": {
          "base_uri": "https://localhost:8080/"
        }
      },
      "outputs": [
        {
          "output_type": "stream",
          "name": "stdout",
          "text": [
            "[91 59 70 43  7 46 34 77 80 35]\n",
            "Valore massimo: 91 at index 0\n",
            "Valore minimo: 7 at index 4\n",
            "[-91  59  70  43  52  46  34  77  80  35]\n"
          ]
        }
      ],
      "source": [
        "random_vector = np.random.randint(0, 100, 10)\n",
        "print(random_vector)\n",
        "\n",
        "max_value = np.max(random_vector)\n",
        "max_index = np.argmax(random_vector)\n",
        "print(f\"Valore massimo: {max_value} at index {max_index}\")\n",
        "\n",
        "min_value = np.min(random_vector)\n",
        "min_index = np.argmin(random_vector)\n",
        "print(f\"Valore minimo: {min_value} at index {min_index}\")\n",
        "\n",
        "median_value = np.median(random_vector)\n",
        "random_vector[max_index] = -max_value\n",
        "random_vector[min_index] = median_value\n",
        "print(random_vector)"
      ],
      "id": "g04rcuFK0aAk"
    },
    {
      "cell_type": "markdown",
      "metadata": {
        "id": "4gPzX1Z-0aAk"
      },
      "source": [
        "#### 9. Randomly replace p elements in a 2D nxn zero matrix to 1 (intermediate)\n",
        "`hint: np.put, np.random.choice`"
      ],
      "id": "4gPzX1Z-0aAk"
    },
    {
      "cell_type": "code",
      "execution_count": 30,
      "metadata": {
        "id": "-UN2-Sjw0aAk",
        "outputId": "f09ba39b-478e-438e-eacc-82304b5e1139",
        "colab": {
          "base_uri": "https://localhost:8080/"
        }
      },
      "outputs": [
        {
          "output_type": "stream",
          "name": "stdout",
          "text": [
            "[[1 0 1 0 0]\n",
            " [1 1 0 1 0]\n",
            " [1 1 0 0 0]\n",
            " [0 1 1 0 1]\n",
            " [0 0 1 1 0]]\n"
          ]
        }
      ],
      "source": [
        "def random_ones_matrix(n):\n",
        "    p = np.random.randint(1, n*n)\n",
        "    matrix = np.zeros((n, n), dtype=int)\n",
        "    indices = np.random.choice(n*n, size=p, replace=False)\n",
        "    np.put(matrix, indices, 1)\n",
        "    return matrix\n",
        "\n",
        "result = random_ones_matrix(n)\n",
        "print(result)"
      ],
      "id": "-UN2-Sjw0aAk"
    },
    {
      "cell_type": "markdown",
      "metadata": {
        "id": "VvfFyRXE0aAk"
      },
      "source": [
        "#### 10. Subtract the mean of each row of a random 5x10 matrix (intermediate)\n",
        "`hint: mean(axis=,keepdims=)`"
      ],
      "id": "VvfFyRXE0aAk"
    },
    {
      "cell_type": "code",
      "execution_count": 34,
      "metadata": {
        "id": "YpwCqxAs0aAk",
        "outputId": "88622db9-c550-45c3-e251-99b2b86c289b",
        "colab": {
          "base_uri": "https://localhost:8080/"
        }
      },
      "outputs": [
        {
          "output_type": "stream",
          "name": "stdout",
          "text": [
            "[[ 0.14903314  0.05972885 -0.41490499 -0.14086395 -0.24337739 -0.26459011\n",
            "   0.4644308  -0.11548203  0.3834668   0.12255887]\n",
            " [ 0.35358767  0.06141345  0.13568025  0.05129406 -0.24598065  0.28122848\n",
            "  -0.16045128 -0.41690767  0.20424866 -0.26411296]\n",
            " [ 0.2069932   0.22046319  0.18139901 -0.36330668 -0.71800877  0.19485318\n",
            "  -0.30528123  0.23318944  0.23015459  0.11954407]\n",
            " [-0.19288326 -0.10223443  0.36380452 -0.17041015 -0.31783941  0.06946911\n",
            "   0.44882262  0.20869764  0.08272902 -0.39015566]\n",
            " [ 0.0215873   0.39663392 -0.45333591 -0.07509027  0.28395315  0.14734869\n",
            "   0.10359582  0.10906416 -0.23392877 -0.29982808]]\n"
          ]
        }
      ],
      "source": [
        "matrix = np.random.rand(5, 10)\n",
        "row_means = np.mean(matrix, axis=1, keepdims=True)\n",
        "centered_matrix = matrix - row_means\n",
        "print(centered_matrix)"
      ],
      "id": "YpwCqxAs0aAk"
    }
  ],
  "metadata": {
    "kernelspec": {
      "display_name": "Python 3",
      "language": "python",
      "name": "python3"
    },
    "language_info": {
      "codemirror_mode": {
        "name": "ipython",
        "version": 3
      },
      "file_extension": ".py",
      "mimetype": "text/x-python",
      "name": "python",
      "nbconvert_exporter": "python",
      "pygments_lexer": "ipython3",
      "version": "3.6.9"
    },
    "toc-autonumbering": false,
    "colab": {
      "provenance": []
    }
  },
  "nbformat": 4,
  "nbformat_minor": 5
}