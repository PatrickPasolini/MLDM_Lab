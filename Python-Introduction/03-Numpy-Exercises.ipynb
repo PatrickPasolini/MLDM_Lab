{
  "cells": [
    {
      "cell_type": "markdown",
      "metadata": {
        "id": "maRFBeb60aAf"
      },
      "source": [
        "# Numpy Practice - Hints - Unibs 2021"
      ],
      "id": "maRFBeb60aAf"
    },
    {
      "cell_type": "markdown",
      "metadata": {
        "id": "b8X-mxqv0aAg"
      },
      "source": [
        "#### Import the numpy package under the name `np` and print version and configuration (base)\n",
        "`hint: import … as, np.__version__, np.show_config`"
      ],
      "id": "b8X-mxqv0aAg"
    },
    {
      "cell_type": "code",
      "execution_count": 6,
      "metadata": {
        "colab": {
          "base_uri": "https://localhost:8080/"
        },
        "id": "liHAcgDZ0aAh",
        "outputId": "342e89cc-d938-4e92-8737-126af8090575"
      },
      "outputs": [
        {
          "output_type": "stream",
          "name": "stdout",
          "text": [
            "NumPy version: 2.0.2\n",
            "\n",
            "NumPy configuration:\n",
            "Build Dependencies:\n",
            "  blas:\n",
            "    detection method: pkgconfig\n",
            "    found: true\n",
            "    include directory: /opt/_internal/cpython-3.11.8/lib/python3.11/site-packages/scipy_openblas64/include\n",
            "    lib directory: /opt/_internal/cpython-3.11.8/lib/python3.11/site-packages/scipy_openblas64/lib\n",
            "    name: scipy-openblas\n",
            "    openblas configuration: OpenBLAS 0.3.27  USE64BITINT DYNAMIC_ARCH NO_AFFINITY\n",
            "      Zen MAX_THREADS=64\n",
            "    pc file directory: /project/.openblas\n",
            "    version: 0.3.27\n",
            "  lapack:\n",
            "    detection method: pkgconfig\n",
            "    found: true\n",
            "    include directory: /opt/_internal/cpython-3.11.8/lib/python3.11/site-packages/scipy_openblas64/include\n",
            "    lib directory: /opt/_internal/cpython-3.11.8/lib/python3.11/site-packages/scipy_openblas64/lib\n",
            "    name: scipy-openblas\n",
            "    openblas configuration: OpenBLAS 0.3.27  USE64BITINT DYNAMIC_ARCH NO_AFFINITY\n",
            "      Zen MAX_THREADS=64\n",
            "    pc file directory: /project/.openblas\n",
            "    version: 0.3.27\n",
            "Compilers:\n",
            "  c:\n",
            "    commands: cc\n",
            "    linker: ld.bfd\n",
            "    name: gcc\n",
            "    version: 10.2.1\n",
            "  c++:\n",
            "    commands: c++\n",
            "    linker: ld.bfd\n",
            "    name: gcc\n",
            "    version: 10.2.1\n",
            "  cython:\n",
            "    commands: cython\n",
            "    linker: cython\n",
            "    name: cython\n",
            "    version: 3.0.11\n",
            "Machine Information:\n",
            "  build:\n",
            "    cpu: x86_64\n",
            "    endian: little\n",
            "    family: x86_64\n",
            "    system: linux\n",
            "  host:\n",
            "    cpu: x86_64\n",
            "    endian: little\n",
            "    family: x86_64\n",
            "    system: linux\n",
            "Python Information:\n",
            "  path: /tmp/build-env-zm_4loqi/bin/python\n",
            "  version: '3.11'\n",
            "SIMD Extensions:\n",
            "  baseline:\n",
            "  - SSE\n",
            "  - SSE2\n",
            "  - SSE3\n",
            "  found:\n",
            "  - SSSE3\n",
            "  - SSE41\n",
            "  - POPCNT\n",
            "  - SSE42\n",
            "  - AVX\n",
            "  - F16C\n",
            "  - FMA3\n",
            "  - AVX2\n",
            "  not found:\n",
            "  - AVX512F\n",
            "  - AVX512CD\n",
            "  - AVX512_KNL\n",
            "  - AVX512_KNM\n",
            "  - AVX512_SKX\n",
            "  - AVX512_CLX\n",
            "  - AVX512_CNL\n",
            "  - AVX512_ICL\n",
            "\n"
          ]
        }
      ],
      "source": [
        "import numpy as np\n",
        "print(f\"NumPy version: {np.__version__}\")\n",
        "\n",
        "# Print NumPy configuration\n",
        "print(\"\\nNumPy configuration:\")\n",
        "np.show_config()"
      ],
      "id": "liHAcgDZ0aAh"
    },
    {
      "cell_type": "markdown",
      "metadata": {
        "id": "Tm3R48zA0aAh"
      },
      "source": [
        "## Base Practice"
      ],
      "id": "Tm3R48zA0aAh"
    },
    {
      "cell_type": "markdown",
      "metadata": {
        "id": "ClmCzt8l0aAi"
      },
      "source": [
        "#### 1. Create a null vector of size 10 but the fifth value which is 1 (base)\n",
        "`hint: array[4]`"
      ],
      "id": "ClmCzt8l0aAi"
    },
    {
      "cell_type": "code",
      "execution_count": 10,
      "metadata": {
        "colab": {
          "base_uri": "https://localhost:8080/"
        },
        "id": "JTKepia_0aAi",
        "outputId": "9dda395f-9b01-4c6b-c239-c3a1080b23e5"
      },
      "outputs": [
        {
          "output_type": "stream",
          "name": "stdout",
          "text": [
            "[0. 0. 0. 0. 1. 0. 0. 0. 0. 0.]\n"
          ]
        }
      ],
      "source": [
        "array = np.zeros(10)\n",
        "array[4] = 1\n",
        "print(array)"
      ],
      "id": "JTKepia_0aAi"
    },
    {
      "cell_type": "markdown",
      "metadata": {
        "id": "YGegmq8G0aAi"
      },
      "source": [
        "#### 2. Create a 3x3 matrix with values ranging from 0 to 8 with zeros on the diagonal (base)\n",
        "`hint: np.arange, reshape, np.eye`"
      ],
      "id": "YGegmq8G0aAi"
    },
    {
      "cell_type": "code",
      "source": [
        "matrix = np.arange(9).reshape(3, 3)\n",
        "np.fill_diagonal(matrix, 0)\n",
        "matrix"
      ],
      "metadata": {
        "id": "dIy_z65V37pW",
        "outputId": "d939b0fe-f253-4c24-b361-9ef709df7bc5",
        "colab": {
          "base_uri": "https://localhost:8080/"
        }
      },
      "id": "dIy_z65V37pW",
      "execution_count": 19,
      "outputs": [
        {
          "output_type": "execute_result",
          "data": {
            "text/plain": [
              "array([[0, 1, 2],\n",
              "       [3, 0, 5],\n",
              "       [6, 7, 0]])"
            ]
          },
          "metadata": {},
          "execution_count": 19
        }
      ]
    },
    {
      "cell_type": "markdown",
      "metadata": {
        "id": "o8jdReU_0aAi"
      },
      "source": [
        "#### 3. How to add a border (filled with 0's) around an 5x5 matrix of ones? (base)\n",
        "`hint: np.ones, np.pad`"
      ],
      "id": "o8jdReU_0aAi"
    },
    {
      "cell_type": "code",
      "execution_count": 23,
      "metadata": {
        "colab": {
          "base_uri": "https://localhost:8080/"
        },
        "id": "g3xdWyWy0aAi",
        "outputId": "7aee93a4-a291-4333-d407-89dd6d01a0e5"
      },
      "outputs": [
        {
          "output_type": "stream",
          "name": "stdout",
          "text": [
            "[[0. 0. 0. 0. 0. 0. 0.]\n",
            " [0. 1. 1. 1. 1. 1. 0.]\n",
            " [0. 1. 1. 1. 1. 1. 0.]\n",
            " [0. 1. 1. 1. 1. 1. 0.]\n",
            " [0. 1. 1. 1. 1. 1. 0.]\n",
            " [0. 1. 1. 1. 1. 1. 0.]\n",
            " [0. 0. 0. 0. 0. 0. 0.]]\n"
          ]
        }
      ],
      "source": [
        "matrix = np.ones((5, 5))\n",
        "matrix_with_border = np.pad(matrix, pad_width=1, mode='constant', constant_values=0)\n",
        "\n",
        "print(matrix_with_border)\n"
      ],
      "id": "g3xdWyWy0aAi"
    },
    {
      "cell_type": "code",
      "execution_count": null,
      "metadata": {
        "id": "mCQxNnrL0aAi"
      },
      "outputs": [],
      "source": [],
      "id": "mCQxNnrL0aAi"
    },
    {
      "cell_type": "markdown",
      "metadata": {
        "id": "G1mnP9H00aAj"
      },
      "source": [
        "#### 4. Normalize a 5x5 random matrix (base)\n",
        "`hint: (x - mean) / std, np.mean, np.std`"
      ],
      "id": "G1mnP9H00aAj"
    },
    {
      "cell_type": "code",
      "execution_count": 26,
      "metadata": {
        "colab": {
          "base_uri": "https://localhost:8080/"
        },
        "id": "S69nBj8l0aAj",
        "outputId": "9f8409fa-351a-47b8-f1d4-986f2f8b8a99"
      },
      "outputs": [
        {
          "output_type": "stream",
          "name": "stdout",
          "text": [
            "[[ 0.03805251  0.70786839  1.39389469 -0.98690241 -1.00988023]\n",
            " [ 0.10262303 -0.20503958  1.03090816 -0.81208577  0.52384893]\n",
            " [-1.24395022  1.04872472  0.14575736 -2.0448978   1.75813044]\n",
            " [ 0.67898875  0.78329781 -0.54139459 -2.00661695  0.4026258 ]\n",
            " [-0.37649096  1.05251516  0.51242997 -1.20021168  0.24780444]]\n"
          ]
        }
      ],
      "source": [
        "random_matrix = np.random.random((5, 5))\n",
        "\n",
        "x = (random_matrix - np.mean(random_matrix)) / np.std(random_matrix)\n",
        "print(x)"
      ],
      "id": "S69nBj8l0aAj"
    },
    {
      "cell_type": "markdown",
      "metadata": {
        "id": "e-s-L5km0aAj"
      },
      "source": [
        "#### 5. Multiply a 5x3 matrix of ones by a 3x2 matrix of ones (real matrix product) (base)\n",
        "`hint: np.dot`"
      ],
      "id": "e-s-L5km0aAj"
    },
    {
      "cell_type": "code",
      "execution_count": 29,
      "metadata": {
        "colab": {
          "base_uri": "https://localhost:8080/"
        },
        "id": "7cAEdIU80aAj",
        "outputId": "a96f4288-9f0e-4182-a5ce-c51547a62724"
      },
      "outputs": [
        {
          "output_type": "execute_result",
          "data": {
            "text/plain": [
              "array([[3., 3.],\n",
              "       [3., 3.],\n",
              "       [3., 3.],\n",
              "       [3., 3.],\n",
              "       [3., 3.]])"
            ]
          },
          "metadata": {},
          "execution_count": 29
        }
      ],
      "source": [
        "np.dot(np.ones((5, 3)), np.ones((3, 2)))"
      ],
      "id": "7cAEdIU80aAj"
    },
    {
      "cell_type": "markdown",
      "metadata": {
        "id": "cn9fz4Uq0aAj"
      },
      "source": [
        "## Intermediate Practice"
      ],
      "id": "cn9fz4Uq0aAj"
    },
    {
      "cell_type": "markdown",
      "metadata": {
        "id": "ypmp4dD-0aAj"
      },
      "source": [
        "#### 6. Create a vector of size 10 with values ranging from 0 to 1, both excluded (intermediate)\n",
        "`hint: np.linspace`"
      ],
      "id": "ypmp4dD-0aAj"
    },
    {
      "cell_type": "code",
      "execution_count": 34,
      "metadata": {
        "colab": {
          "base_uri": "https://localhost:8080/"
        },
        "id": "0JjX6Dyl0aAj",
        "outputId": "7a223fb5-32ae-45f8-c48b-24ecfa8fb81a"
      },
      "outputs": [
        {
          "output_type": "stream",
          "name": "stdout",
          "text": [
            "[0.09090909 0.18181818 0.27272727 0.36363636 0.45454545 0.54545455\n",
            " 0.63636364 0.72727273 0.81818182 0.90909091]\n"
          ]
        }
      ],
      "source": [
        "#vettore di 12 elementi, rimuove il primo e l'ultimo\n",
        "vector1 = np.linspace(0, 1, 12)[1:-1]\n",
        "print(vector1)"
      ],
      "id": "0JjX6Dyl0aAj"
    },
    {
      "cell_type": "markdown",
      "metadata": {
        "id": "oDrrzvxe0aAj"
      },
      "source": [
        "#### 7. Create a random vector of size 10 with values in range (-3, 12) and sort it (intermediate)\n",
        "`hint: sort`"
      ],
      "id": "oDrrzvxe0aAj"
    },
    {
      "cell_type": "code",
      "execution_count": 37,
      "metadata": {
        "colab": {
          "base_uri": "https://localhost:8080/",
          "height": 263
        },
        "id": "R2WM9cNl0aAk",
        "outputId": "29892cac-e853-4f09-cbbe-a1b39d80907a"
      },
      "outputs": [
        {
          "output_type": "error",
          "ename": "AttributeError",
          "evalue": "module 'numpy' has no attribute 'randrange'",
          "traceback": [
            "\u001b[0;31m---------------------------------------------------------------------------\u001b[0m",
            "\u001b[0;31mAttributeError\u001b[0m                            Traceback (most recent call last)",
            "\u001b[0;32m<ipython-input-37-7d01a9171692>\u001b[0m in \u001b[0;36m<cell line: 0>\u001b[0;34m()\u001b[0m\n\u001b[0;32m----> 1\u001b[0;31m \u001b[0mnp\u001b[0m\u001b[0;34m.\u001b[0m\u001b[0mrandrange\u001b[0m\u001b[0;34m(\u001b[0m\u001b[0;34m-\u001b[0m\u001b[0;36m3\u001b[0m\u001b[0;34m,\u001b[0m\u001b[0;36m12\u001b[0m\u001b[0;34m)\u001b[0m\u001b[0;34m\u001b[0m\u001b[0;34m\u001b[0m\u001b[0m\n\u001b[0m",
            "\u001b[0;32m/usr/local/lib/python3.11/dist-packages/numpy/__init__.py\u001b[0m in \u001b[0;36m__getattr__\u001b[0;34m(attr)\u001b[0m\n\u001b[1;32m    408\u001b[0m             \u001b[0;32mreturn\u001b[0m \u001b[0mchar\u001b[0m\u001b[0;34m.\u001b[0m\u001b[0mchararray\u001b[0m\u001b[0;34m\u001b[0m\u001b[0;34m\u001b[0m\u001b[0m\n\u001b[1;32m    409\u001b[0m \u001b[0;34m\u001b[0m\u001b[0m\n\u001b[0;32m--> 410\u001b[0;31m         raise AttributeError(\"module {!r} has no attribute \"\n\u001b[0m\u001b[1;32m    411\u001b[0m                              \"{!r}\".format(__name__, attr))\n\u001b[1;32m    412\u001b[0m \u001b[0;34m\u001b[0m\u001b[0m\n",
            "\u001b[0;31mAttributeError\u001b[0m: module 'numpy' has no attribute 'randrange'"
          ]
        }
      ],
      "source": [],
      "id": "R2WM9cNl0aAk"
    },
    {
      "cell_type": "code",
      "source": [
        "random_vector = np.random.randint(-3, 12, size=10)\n",
        "sorted_vector = np.sort(random_vector)\n",
        "sorted_vector\n"
      ],
      "metadata": {
        "id": "Mnape42o75p2",
        "outputId": "d30bed98-c990-4b83-873d-b01b9cc28eeb",
        "colab": {
          "base_uri": "https://localhost:8080/"
        }
      },
      "id": "Mnape42o75p2",
      "execution_count": 40,
      "outputs": [
        {
          "output_type": "execute_result",
          "data": {
            "text/plain": [
              "array([-2, -1, -1,  0,  5,  6,  6,  6,  7,  7])"
            ]
          },
          "metadata": {},
          "execution_count": 40
        }
      ]
    },
    {
      "cell_type": "markdown",
      "metadata": {
        "id": "OEfL3VpB0aAk"
      },
      "source": [
        "#### 8. Create random vector of size 10 and replace the maximum value by its additive inverse and the minimum value (of the original array) with the median value (intermediate)\n",
        "`hint: argmax, argmin`"
      ],
      "id": "OEfL3VpB0aAk"
    },
    {
      "cell_type": "code",
      "execution_count": null,
      "metadata": {
        "id": "g04rcuFK0aAk"
      },
      "outputs": [],
      "source": [],
      "id": "g04rcuFK0aAk"
    },
    {
      "cell_type": "markdown",
      "metadata": {
        "id": "4gPzX1Z-0aAk"
      },
      "source": [
        "#### 9. Randomly replace p elements in a 2D nxn zero matrix to 1 (intermediate)\n",
        "`hint: np.put, np.random.choice`"
      ],
      "id": "4gPzX1Z-0aAk"
    },
    {
      "cell_type": "code",
      "execution_count": null,
      "metadata": {
        "id": "-UN2-Sjw0aAk"
      },
      "outputs": [],
      "source": [],
      "id": "-UN2-Sjw0aAk"
    },
    {
      "cell_type": "markdown",
      "metadata": {
        "id": "VvfFyRXE0aAk"
      },
      "source": [
        "#### 10. Subtract the mean of each row of a random 5x10 matrix (intermediate)\n",
        "`hint: mean(axis=,keepdims=)`"
      ],
      "id": "VvfFyRXE0aAk"
    },
    {
      "cell_type": "code",
      "execution_count": null,
      "metadata": {
        "id": "YpwCqxAs0aAk"
      },
      "outputs": [],
      "source": [],
      "id": "YpwCqxAs0aAk"
    }
  ],
  "metadata": {
    "kernelspec": {
      "display_name": "Python 3",
      "language": "python",
      "name": "python3"
    },
    "language_info": {
      "codemirror_mode": {
        "name": "ipython",
        "version": 3
      },
      "file_extension": ".py",
      "mimetype": "text/x-python",
      "name": "python",
      "nbconvert_exporter": "python",
      "pygments_lexer": "ipython3",
      "version": "3.6.9"
    },
    "toc-autonumbering": false,
    "colab": {
      "provenance": []
    }
  },
  "nbformat": 4,
  "nbformat_minor": 5
}